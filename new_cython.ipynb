{
 "cells": [
  {
   "cell_type": "code",
   "execution_count": 1,
   "id": "d0a66efb",
   "metadata": {},
   "outputs": [],
   "source": [
    "import numpy as np\n",
    "import matplotlib.pyplot as plt\n",
    "import matplotlib\n",
    "import pandas as pd\n",
    "import cython\n",
    "\n",
    "rc = {\"font.family\" : \"serif\", \n",
    "      \"mathtext.fontset\" : \"stix\"}\n",
    "plt.rcParams.update(rc)\n",
    "plt.rcParams[\"font.serif\"] = [\"Times New Roman\"] + plt.rcParams[\"font.serif\"]\n",
    "matplotlib.rcParams.update({'font.size': 12})"
   ]
  },
  {
   "cell_type": "code",
   "execution_count": 2,
   "id": "26784012",
   "metadata": {},
   "outputs": [],
   "source": [
    "p_0 = 34.5e6 # начальное давление\n",
    "T_0 = 300 # начальная температура\n",
    "W_0 = 5e-3 # начальный объем\n",
    "hi_O2_and_H2_0 = 1/8 # начальное соотношение мольных долей"
   ]
  },
  {
   "cell_type": "code",
   "execution_count": 3,
   "id": "5a820eab",
   "metadata": {},
   "outputs": [],
   "source": [
    "%load_ext cython"
   ]
  },
  {
   "cell_type": "code",
   "execution_count": 4,
   "id": "dd523442",
   "metadata": {},
   "outputs": [],
   "source": [
    "%%cython\n",
    "import numpy as np\n",
    "cimport numpy as np\n",
    "from cython cimport floating\n",
    "\n",
    "# Начальный вектор молярных концентраций\n",
    "def C_initial(p_0, W_0, T_0, hi):\n",
    "    cdef double R_u=8.31446262\n",
    "    \n",
    "    return np.array([(p_0 * W_0/(R_u * T_0))/(hi + 1.0)/W_0,\n",
    "                    (p_0 * W_0/(R_u * T_0))/(hi + 1.0)/W_0 * hi,\n",
    "                    0])\n",
    "\n",
    "# Показатель адиабаты элемента\n",
    "def foo_k(double T, str gas_name):\n",
    "    if gas_name == 'H2':\n",
    "        return 1 + sum(np.array([0.3975, 0.4814e-4, -1.073e-7, 4.6863e-11, -8.5361e-15, 5.6934e-19] * np.array([1, T, T**2, T**3, T**4, T*5])))\n",
    "    elif gas_name == 'O2':\n",
    "        return 1 + sum(np.array([0.4697, -2.9819e-4, 2.0320e-7, -7.1938e-11, 12.311e-15, -8.0736e-19] * np.array([1, T, T**2, T**3, T**4, T*5])))             \n",
    "    elif gas_name == 'H2O':\n",
    "        return 1 + sum(np.array([0.3834, -1.8579e-4, 0.6266e-7, -1.0528e-11, 0.93554e-15, -0.38512e-19] * np.array([1, T, T**2, T**3, T**4, T*5])))\n",
    "\n",
    "# Показатель адиабаты смеси\n",
    "def k_smesi(double T, np.ndarray[double, ndim=1] C, double W):\n",
    "    return 1 + C[0]*W*((C[0]*W/(foo_k(T,'H2')-1) + C[1]*W/(foo_k(T,'O2')-1) + C[2]*W/(foo_k(T,'H2O')-1))**(-1)) + C[1]*W*((C[0]*W/(foo_k(T,'H2')-1) + C[1]*W/(foo_k(T,'O2')-1) + C[2]*W/(foo_k(T,'H2O')-1))**(-1)) + C[2]*W*((C[0]*W/(foo_k(T,'H2')-1) + C[1]*W/(foo_k(T,'O2')-1) + C[2]*W/(foo_k(T,'H2O')-1))**(-1))\n",
    "\n",
    "# Скорость реакции (закон Арениуса)\n",
    "def foo_k_r(double T):\n",
    "    cdef double k_r0=9.87e8, E_a=60e3, R_u=8.31446262\n",
    "    \n",
    "    return k_r0 * np.e**(-E_a/(R_u*T))\n",
    "\n",
    "# Функция альфа из предиктора корректора\n",
    "def foo_alpha(np.ndarray[double, ndim=1] arr):\n",
    "    cdef int i\n",
    "    \n",
    "    res_arr = np.array([])\n",
    "    for i in range(len(arr)):\n",
    "        if abs(arr[i]) >= 1e-5:\n",
    "            res_arr = np.append(res_arr, (1-(1 - np.e**(-arr[i]))/arr[i])/(1 - np.e**(-arr[i])))\n",
    "        else:\n",
    "            res_arr = np.append(res_arr, 0.5)\n",
    "        return res_arr\n",
    "\n",
    "# Метод предиктор корректор    \n",
    "def alpha_QSS(np.ndarray[double, ndim=1] C_n, double T, double dt, double W_n, double W_n_1):\n",
    "    cdef int i\n",
    "    cdef np.ndarray[double, ndim=1] P_n, D_n, C_n_kr, D_n_kr\n",
    "\n",
    "    P_n = np.array([0, \n",
    "                    0, \n",
    "                    foo_k_r(T)*C_n[0]*C_n[1]**(1.0/2.0)])\n",
    "\n",
    "    D_n = np.array([foo_k_r(T)*C_n[1]**(1.0/2.0), \n",
    "                    1.0/2.0*foo_k_r(T)*C_n[0]*C_n[1]**(-1.0/2.0),\n",
    "                    0])\n",
    "    \n",
    "    # Предиктор вектора\n",
    "    C_n_kr = W_n/W_n_1 * (C_n + (dt *(P_n-C_n*D_n))/(1.0+foo_alpha(D_n*dt)*D_n*dt))\n",
    "    \n",
    "    if C_n_kr[0] >= 1e-1 and C_n_kr[1] >= 1e-1:\n",
    "        D_n_kr = (np.array([foo_k_r(T)*C_n_kr[1]**(1/2), \n",
    "                            1.0/2*foo_k_r(T)*C_n_kr[0]*C_n_kr[1]**(-1/2),\n",
    "                            0]) + D_n)/2.0\n",
    "        P_n_kr = foo_alpha(D_n_kr*dt)*np.array([0, \n",
    "                                         0, \n",
    "                                         foo_k_r(T)*C_n_kr[0]*C_n_kr[1]**(1/2)]) + (1.0-foo_alpha(D_n_kr*dt))*P_n   \n",
    "    else:\n",
    "        D_n_kr = np.array([0.0,0.0,0.0])\n",
    "        P_n_kr = np.array([0.0,0.0,0.0])\n",
    "        \n",
    "    # Возврат корректора    \n",
    "    return W_n/W_n_1 * (C_n + (dt *(P_n_kr-C_n*D_n_kr))/(1.0+foo_alpha(D_n_kr*dt)*D_n_kr*dt))\n",
    "    \n",
    "# def time_step(double p_m, double p_last, value_of_p_gradient, dt, schetchik, np.ndarray[double, ndim=1] p_arr):\n",
    "#     try:\n",
    "#         if ((p_m-p_last)/10**6 >= value_of_p_gradient):\n",
    "#             return dt/10\n",
    "#         elif ((p_m-p_last)/10**6 < value_of_p_gradient) and (p_m-p_last > 0) and (schetchik > 10000):\n",
    "#             return dt\n",
    "#         elif (round(p_m,3)-round(p_last,3) <= 0) and (round(p_m,3)-round(p_arr[-1],3) <= 0) and (schetchik>10000):\n",
    "#             return 1e-6\n",
    "#     except:\n",
    "#         return dt\n",
    "\n",
    "# Шаг по времени\n",
    "def time_step(double p_m, double p_last,double value_of_p_gradient,double dt,int schetchik, int count_dt,int flag_dt):\n",
    "    if schetchik == 1:\n",
    "        dt = 1e-7\n",
    "        count_dt = 0\n",
    "    elif ((p_m-p_last)/10**6 >= value_of_p_gradient) and (flag_dt == 0) and (count_dt > 10):\n",
    "        dt = 1e-8\n",
    "        flag_dt = 1\n",
    "        count_dt = 0\n",
    "    elif ((p_m-p_last)/10**6 >= value_of_p_gradient) and (flag_dt == 1) and (count_dt > 10):\n",
    "        dt = 1e-9\n",
    "        flag_dt = 2\n",
    "        count_dt = 0\n",
    "    elif ((p_m-p_last)/10**6 >= value_of_p_gradient) and (flag_dt == 2) and (count_dt > 10):\n",
    "        dt = 1e-10\n",
    "        flag_dt = 3\n",
    "        count_dt = 0\n",
    "    elif ((p_m-p_last)/10**6 >= value_of_p_gradient) and (flag_dt == 3) and (count_dt > 10):\n",
    "        dt = 1e-11\n",
    "        flag_dt = 4\n",
    "        count_dt = 0\n",
    "    elif ((p_m-p_last)/10**6 >= value_of_p_gradient) and (flag_dt == 4) and (count_dt > 10):\n",
    "        dt = 1e-12\n",
    "        flag_dt = 5\n",
    "        count_dt = 0\n",
    "    elif ((p_m-p_last)/10**6 >= value_of_p_gradient) and (flag_dt == 5) and (count_dt > 10):\n",
    "        dt = 1e-13\n",
    "        flag_dt = 6\n",
    "        count_dt = 0\n",
    "    elif ((p_m-p_last)/10**6 >= value_of_p_gradient) and (flag_dt == 6) and (count_dt > 10):\n",
    "        dt = 1e-14\n",
    "        flag_dt = 7\n",
    "        count_dt = 0\n",
    "    elif ((p_m-p_last)/10**6 >= value_of_p_gradient) and (flag_dt == 7) and (count_dt > 10):\n",
    "        dt = 1e-15\n",
    "        flag_dt = 8\n",
    "        count_dt = 0\n",
    "    elif ((p_m-p_last)/10**6 >= value_of_p_gradient) and (flag_dt >= 8) and (count_dt > 10):\n",
    "        dt = 1e-16\n",
    "        count_dt = 0\n",
    "    elif (round(p_m/10**6,3)-round(p_last/10**6,3) <= 0) and (flag_dt > 0) and (count_dt > 10):\n",
    "        dt = 1e-6\n",
    "    return dt, flag_dt, count_dt\n",
    "\n",
    "# состояние системы\n",
    "def system_condition(np.ndarray[double, ndim=1] C_n_1, double T_n, double dt, double W_n_1, double v_p, double x_p, double p_m, double p_0, double W_0, double T_0, double k_smesi_T_0):\n",
    "    cdef np.ndarray[double, ndim=1] C_n\n",
    "    cdef double M_p, phi, T_n_1, W_n, mu_H2O=18e-3, mu_H2=2e-3, mu_O2=32e-3, m_elem=0.52, Q_t=13.4e6, E_ign=0, R_u=8.31446262, p_f=172e6, p_a=1e5, S=np.pi*(45e-3)**2/4, dv_p=0\n",
    "    \n",
    "    C_n = C_n_1\n",
    "\n",
    "    W_n = W_n_1\n",
    "    \n",
    "    M_p = mu_H2O * C_n[2] * W_n\n",
    "\n",
    "    phi = (1+(C_n[0] * W_n * mu_H2 + C_n[1] * W_n * mu_O2 + C_n[2] * W_n * mu_H2O)/(3*m_elem))\n",
    "    \n",
    "    p_m = (k_smesi(T_n, C_n, W_n)-1)/W_n * ((p_0*W_0)/(k_smesi_T_0-1) + Q_t*M_p - E_ign - phi/2*m_elem*v_p**2) # среднебаллистическое давление\n",
    "        \n",
    "    T_n_1 = p_m*W_n/(R_u*(C_n[0] * W_n + C_n[1] * W_n + C_n[2] * W_n))\n",
    "\n",
    "    if p_m < p_f and v_p == 0:\n",
    "        dv_p = 0\n",
    "    elif p_m >= p_f or v_p>0:\n",
    "        dv_p = (p_m - p_a)*S/(phi*m_elem) * dt\n",
    "\n",
    "    v_p += dv_p\n",
    "\n",
    "    dx_p = v_p * dt\n",
    "\n",
    "    x_p += dx_p\n",
    "\n",
    "    W_n_1 = W_0 + x_p*S  # Заснарядный объем на n+1 шаге\n",
    "\n",
    "    W_n = W_0 + (x_p-dx_p)*S # Заснарядный объем на n шаге\n",
    "    \n",
    "    C_n_1 = alpha_QSS(C_n, T_n_1, dt, W_n, W_n_1)\n",
    "    \n",
    "    return C_n_1, T_n_1, W_n_1, v_p, x_p, p_m\n",
    "        \n",
    "# необходимые параметры для задачи    \n",
    "def init_params(double p_0, double W_0, double T_0, np.ndarray[double, ndim=1] C_n_1):\n",
    "    return k_smesi(T_0, C_n_1, W_0), W_0, 0, 0, T_0, p_0, np.array([]), np.array([]), np.array([]), np.array([]), np.array([]), 0, p_0, 0, 0, 1e-7\n",
    "        \n",
    "# Термодинамическая модель\n",
    "def termodynamic_system(double p_0, double W_0, double T_0, double hi_second_to_first):\n",
    "    cdef np.ndarray[double, ndim=1] C_n_1, C_n, tau_arr, v_p_arr, p_m_arr, p_b_arr, x_p_arr, T_arr\n",
    "    cdef double l_d=4.5\n",
    "    cdef int schetchik, falg_fors, flag_dt, count_dt\n",
    "    \n",
    "    tau = 0\n",
    "    \n",
    "    C_n_1 = C_initial(p_0, W_0, T_0, hi_second_to_first)\n",
    "    \n",
    "    k_smesi_T_0, W_n_1, v_p, x_p, T, p_m, tau_arr, v_p_arr, p_m_arr, x_p_arr, T_arr, schetchik, p_last, flag_dt, count_dt, dt = init_params(p_0, W_0, T_0, C_n_1)\n",
    "\n",
    "    value_of_p_gradient = 1e-2\n",
    "\n",
    "    while (x_p <= l_d) and (tau<=7e-3):\n",
    "        schetchik += 1\n",
    "\n",
    "        dt, flag_dt, count_dt = time_step(p_m, p_last, value_of_p_gradient, dt, schetchik, count_dt, flag_dt)\n",
    "            \n",
    "        count_dt += 1\n",
    "\n",
    "        p_last = p_m\n",
    "        \n",
    "        tau += dt\n",
    "\n",
    "        C_n_1, T, W_n_1, v_p, x_p, p_m = system_condition(C_n_1, T, dt, W_n_1, v_p, x_p, p_m, p_0, W_0, T_0, k_smesi_T_0)\n",
    "        \n",
    "        if schetchik % 1_00 == 0:\n",
    "            tau_arr = np.append(tau_arr, tau)\n",
    "            x_p_arr = np.append(x_p_arr, x_p)\n",
    "            v_p_arr = np.append(v_p_arr, v_p)\n",
    "            T_arr = np.append(T_arr, T)\n",
    "            p_m_arr = np.append(p_m_arr, p_m)\n",
    "#             print(tau, x_p, v_p, p_m/10**6, (p_m - p_last)/10**6, C_n_1, dt)\n",
    "\n",
    "\n",
    "    tau_arr = np.append(tau_arr, tau)\n",
    "    x_p_arr = np.append(x_p_arr, x_p)\n",
    "    v_p_arr = np.append(v_p_arr, v_p)\n",
    "    T_arr = np.append(T_arr, T)\n",
    "    p_m_arr = np.append(p_m_arr, p_m)\n",
    "\n",
    "\n",
    "    return {'tau':tau_arr, 'x_p':x_p_arr,\n",
    "           'v_p':v_p_arr, 'T':T_arr, 'p_m':p_m_arr}"
   ]
  },
  {
   "cell_type": "code",
   "execution_count": 5,
   "id": "28e5d243",
   "metadata": {
    "scrolled": true
   },
   "outputs": [
    {
     "name": "stdout",
     "output_type": "stream",
     "text": [
      "Wall time: 8.13 s\n"
     ]
    }
   ],
   "source": [
    "%%time\n",
    "res = termodynamic_system(p_0, W_0, T_0, 1/8)"
   ]
  },
  {
   "cell_type": "code",
   "execution_count": 6,
   "id": "3fa79b66",
   "metadata": {},
   "outputs": [],
   "source": [
    "df = pd.DataFrame.from_dict(res)"
   ]
  },
  {
   "cell_type": "code",
   "execution_count": 7,
   "id": "324e8aee",
   "metadata": {},
   "outputs": [
    {
     "data": {
      "text/html": [
       "<div>\n",
       "<style scoped>\n",
       "    .dataframe tbody tr th:only-of-type {\n",
       "        vertical-align: middle;\n",
       "    }\n",
       "\n",
       "    .dataframe tbody tr th {\n",
       "        vertical-align: top;\n",
       "    }\n",
       "\n",
       "    .dataframe thead th {\n",
       "        text-align: right;\n",
       "    }\n",
       "</style>\n",
       "<table border=\"1\" class=\"dataframe\">\n",
       "  <thead>\n",
       "    <tr style=\"text-align: right;\">\n",
       "      <th></th>\n",
       "      <th>tau</th>\n",
       "      <th>x_p</th>\n",
       "      <th>v_p</th>\n",
       "      <th>T</th>\n",
       "      <th>p_m</th>\n",
       "    </tr>\n",
       "  </thead>\n",
       "  <tbody>\n",
       "    <tr>\n",
       "      <th>0</th>\n",
       "      <td>0.00001</td>\n",
       "      <td>0.0</td>\n",
       "      <td>0.0</td>\n",
       "      <td>300.141356</td>\n",
       "      <td>3.451604e+07</td>\n",
       "    </tr>\n",
       "    <tr>\n",
       "      <th>1</th>\n",
       "      <td>0.00002</td>\n",
       "      <td>0.0</td>\n",
       "      <td>0.0</td>\n",
       "      <td>300.285746</td>\n",
       "      <td>3.453243e+07</td>\n",
       "    </tr>\n",
       "    <tr>\n",
       "      <th>2</th>\n",
       "      <td>0.00003</td>\n",
       "      <td>0.0</td>\n",
       "      <td>0.0</td>\n",
       "      <td>300.431813</td>\n",
       "      <td>3.454901e+07</td>\n",
       "    </tr>\n",
       "    <tr>\n",
       "      <th>3</th>\n",
       "      <td>0.00004</td>\n",
       "      <td>0.0</td>\n",
       "      <td>0.0</td>\n",
       "      <td>300.579597</td>\n",
       "      <td>3.456579e+07</td>\n",
       "    </tr>\n",
       "    <tr>\n",
       "      <th>4</th>\n",
       "      <td>0.00005</td>\n",
       "      <td>0.0</td>\n",
       "      <td>0.0</td>\n",
       "      <td>300.729135</td>\n",
       "      <td>3.458276e+07</td>\n",
       "    </tr>\n",
       "  </tbody>\n",
       "</table>\n",
       "</div>"
      ],
      "text/plain": [
       "       tau  x_p  v_p           T           p_m\n",
       "0  0.00001  0.0  0.0  300.141356  3.451604e+07\n",
       "1  0.00002  0.0  0.0  300.285746  3.453243e+07\n",
       "2  0.00003  0.0  0.0  300.431813  3.454901e+07\n",
       "3  0.00004  0.0  0.0  300.579597  3.456579e+07\n",
       "4  0.00005  0.0  0.0  300.729135  3.458276e+07"
      ]
     },
     "execution_count": 7,
     "metadata": {},
     "output_type": "execute_result"
    }
   ],
   "source": [
    "df.head()"
   ]
  },
  {
   "cell_type": "code",
   "execution_count": 8,
   "id": "7becbeb4",
   "metadata": {
    "scrolled": true
   },
   "outputs": [
    {
     "data": {
      "text/plain": [
       "(929, 5)"
      ]
     },
     "execution_count": 8,
     "metadata": {},
     "output_type": "execute_result"
    }
   ],
   "source": [
    "df.shape"
   ]
  },
  {
   "cell_type": "code",
   "execution_count": 9,
   "id": "17ba8dfa",
   "metadata": {},
   "outputs": [
    {
     "data": {
      "text/plain": [
       "(205.1680727110305, 1614.6878577353104)"
      ]
     },
     "execution_count": 9,
     "metadata": {},
     "output_type": "execute_result"
    }
   ],
   "source": [
    "df.p_m.max()/10**6,df.loc[df.shape[0]-1].v_p"
   ]
  },
  {
   "cell_type": "code",
   "execution_count": 10,
   "id": "43671228",
   "metadata": {},
   "outputs": [
    {
     "data": {
      "image/png": "[encoded data removed]",
      "text/plain": [
       "<Figure size 500x300 with 1 Axes>"
      ]
     },
     "metadata": {},
     "output_type": "display_data"
    }
   ],
   "source": [
    "plt.figure(figsize=(5,3))\n",
    "plt.plot(df.tau, df.p_m/10**6)\n",
    "plt.xlabel('t, с')\n",
    "plt.ylabel('p_m, МПа')\n",
    "plt.grid()"
   ]
  },
  {
   "cell_type": "code",
   "execution_count": 11,
   "id": "9db9000b",
   "metadata": {},
   "outputs": [
    {
     "data": {
      "image/png": "[encoded data removed]",
      "text/plain": [
       "<Figure size 500x300 with 1 Axes>"
      ]
     },
     "metadata": {},
     "output_type": "display_data"
    }
   ],
   "source": [
    "plt.figure(figsize=(5,3))\n",
    "plt.plot(df.tau, df.v_p)\n",
    "plt.xlabel('t, с')\n",
    "plt.ylabel('v_p, м/с')\n",
    "plt.grid()"
   ]
  },
  {
   "cell_type": "code",
   "execution_count": 12,
   "id": "7e8e5aaf",
   "metadata": {},
   "outputs": [
    {
     "data": {
      "image/png": "[encoded data removed]",
      "text/plain": [
       "<Figure size 500x300 with 1 Axes>"
      ]
     },
     "metadata": {},
     "output_type": "display_data"
    }
   ],
   "source": [
    "plt.figure(figsize=(5,3))\n",
    "plt.plot(df.tau, df.x_p)\n",
    "plt.xlabel('t, с')\n",
    "plt.ylabel('x_p, м')\n",
    "plt.grid()"
   ]
  },
  {
   "cell_type": "code",
   "execution_count": 13,
   "id": "6d22a414",
   "metadata": {},
   "outputs": [
    {
     "data": {
      "image/png": "[encoded data removed]",
      "text/plain": [
       "<Figure size 500x300 with 1 Axes>"
      ]
     },
     "metadata": {},
     "output_type": "display_data"
    }
   ],
   "source": [
    "plt.figure(figsize=(5,3))\n",
    "plt.plot(df.tau, df['T'])\n",
    "plt.xlabel('t, с')\n",
    "plt.ylabel('T, К')\n",
    "plt.grid()"
   ]
  },
  {
   "cell_type": "code",
   "execution_count": null,
   "id": "0eecde62",
   "metadata": {},
   "outputs": [],
   "source": []
  }
 ],
 "metadata": {
  "kernelspec": {
   "display_name": "Python 3 (ipykernel)",
   "language": "python",
   "name": "python3"
  },
  "language_info": {
   "codemirror_mode": {
    "name": "ipython",
    "version": 3
   },
   "file_extension": ".py",
   "mimetype": "text/x-python",
   "name": "python",
   "nbconvert_exporter": "python",
   "pygments_lexer": "ipython3",
   "version": "3.9.13"
  }
 },
 "nbformat": 4,
 "nbformat_minor": 5
}
