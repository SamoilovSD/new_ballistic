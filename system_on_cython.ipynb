{
 "cells": [
  {
   "cell_type": "code",
   "execution_count": 1,
   "id": "d0a66efb",
   "metadata": {},
   "outputs": [],
   "source": [
    "import numpy as np\n",
    "import matplotlib.pyplot as plt\n",
    "import matplotlib\n",
    "import pandas as pd\n",
    "import cython\n",
    "\n",
    "rc = {\"font.family\" : \"serif\", \n",
    "      \"mathtext.fontset\" : \"stix\"}\n",
    "plt.rcParams.update(rc)\n",
    "plt.rcParams[\"font.serif\"] = [\"Times New Roman\"] + plt.rcParams[\"font.serif\"]\n",
    "matplotlib.rcParams.update({'font.size': 12})"
   ]
  },
  {
   "cell_type": "code",
   "execution_count": 2,
   "id": "8ac81022",
   "metadata": {},
   "outputs": [],
   "source": [
    "# параметры установки\n",
    "d = 45e-3 # калибр\n",
    "S = np.pi*d**2/4 # площадь\n",
    "W_0 = 0.005 # объем каморы\n",
    "l_d = 4.5 # длина ствола\n",
    "m_elem = 0.52 # масса МЭ\n",
    "p_f = 172e6 # давление форсирования"
   ]
  },
  {
   "cell_type": "code",
   "execution_count": 3,
   "id": "105715f2",
   "metadata": {},
   "outputs": [],
   "source": [
    "k_r0 = 9.87e8 # предэскп. множитель \n",
    "Q_t = 13.4e6 # энергия образования 1 кг продуктов реакций \n",
    "E_ign = 0 # энергия воспламенителя\n",
    "# E_ign = 45e3 # энергия воспламенителя\n",
    "E_a = 60e3 # энергия активации"
   ]
  },
  {
   "cell_type": "code",
   "execution_count": 4,
   "id": "183f3154",
   "metadata": {},
   "outputs": [],
   "source": [
    "v_p0 = 0 # начальная скорость\n",
    "x_p0 = 0 # начальная координата\n",
    "p_a = 1e5 # атмосфэрное давление"
   ]
  },
  {
   "cell_type": "code",
   "execution_count": 5,
   "id": "26784012",
   "metadata": {},
   "outputs": [],
   "source": [
    "p_0 = 34.5e6 # начальное давление\n",
    "T_0 = 300 # начальная температура\n",
    "R_u = 8.31446262 # универсальная газовая постоянная\n",
    "hi_O2_and_H2_0 = 1/8 # начальное соотношение мольных долей"
   ]
  },
  {
   "cell_type": "code",
   "execution_count": 6,
   "id": "c22a0267",
   "metadata": {},
   "outputs": [],
   "source": [
    "mu_H2 = 2e-3 # молярная масса водорода\n",
    "mu_O2 = 32e-3 # молярная масса кислорода\n",
    "mu_H2O = 18e-3 # молярная масса воды"
   ]
  },
  {
   "cell_type": "code",
   "execution_count": 7,
   "id": "5a820eab",
   "metadata": {},
   "outputs": [],
   "source": [
    "%load_ext cython"
   ]
  },
  {
   "cell_type": "code",
   "execution_count": 8,
   "id": "b8ee09f0",
   "metadata": {},
   "outputs": [],
   "source": [
    "%%cython\n",
    "import numpy as np\n",
    "cimport numpy as np\n",
    "from cython cimport floating\n",
    "\n",
    "def C_initial(p_0, W_0, T_0, hi_second_to_first):\n",
    "    cdef double R_u=8.31446262\n",
    "    cdef np.ndarray[double, ndim=1] arr\n",
    "\n",
    "    n_smesi = p_0 * W_0/(R_u * T_0)\n",
    "    n_first_0 = n_smesi/(hi_second_to_first+1.0)\n",
    "    return np.array([n_first_0/W_0,\n",
    "                    n_first_0 * hi_second_to_first/W_0,\n",
    "                    0])\n",
    "\n",
    "def foo_k(double T, str gas_name):\n",
    "    if gas_name == 'H2':\n",
    "        return 1 + 0.3975 + 0.4814e-4 * T + (-1.073e-7) * T**2 + 4.6863e-11 * T**3 + (-8.5361e-15) * T**4 + 5.6934e-19 * T**5\n",
    "    elif gas_name == 'O2':\n",
    "        return 1 + 0.4697 + (-2.9819e-4) * T + 2.0320e-7 * T**2 + (-7.1938e-11) * T**3 + 12.311e-15 * T**4 + (-8.0736e-19) * T**5\n",
    "    elif gas_name == 'H2O':\n",
    "        return 1 + 0.3834 + (-1.8579e-4) * T + 0.6266e-7 * T**2 + (-1.0528e-11) * T**3 + 0.93554e-15 * T**4 + (-0.38512e-19) * T**5\n",
    "    else:\n",
    "        print('Houston we have a problem')\n",
    "\n",
    "def k_smesi(double T, double n_H2, double n_O2, double n_H2O):\n",
    "    help_value = (n_H2/(foo_k(T,'H2')-1) + n_O2/(foo_k(T,'O2')-1) + n_H2O/(foo_k(T,'H2O')-1))**(-1)\n",
    "    return 1 + n_H2*help_value + n_O2*help_value + n_H2O*help_value\n",
    "\n",
    "def foo_k_r(double T):\n",
    "    cdef double k_r0=9.87e8, E_a=60e3, R_u=8.31446262\n",
    "    return k_r0 * np.e**(-E_a/(R_u*T))\n",
    "\n",
    "def foo_alpha(double r):\n",
    "    if abs(r) >= 0.0000001:\n",
    "        a = 1 - np.e**(-r)\n",
    "        return (1-a/r)/a\n",
    "    else:\n",
    "        return 0.5\n",
    "\n",
    "def alpha_QSS(np.ndarray[floating, ndim=1] C_n, double T, double dt, double W_n, double W_n_1):\n",
    "    cdef np.ndarray[floating, ndim=1] P_n, D_n, foo_alpha_res, C_n_kr, D_n_kr\n",
    "    cdef int i\n",
    "\n",
    "    P_n = np.array([0, \n",
    "                    0, \n",
    "                    foo_k_r(T)*C_n[0]*C_n[1]**(1.0/2.0)])\n",
    "\n",
    "    D_n = np.array([foo_k_r(T)*C_n[1]**(1.0/2.0), \n",
    "                    1.0/2.0*foo_k_r(T)*C_n[0]*C_n[1]**(-1.0/2.0),\n",
    "                    0])\n",
    "\n",
    "    foo_alpha_res = np.array([0.0,0.0,0.0])\n",
    "\n",
    "    for i in range(len(D_n)):\n",
    "        foo_alpha_res[i] = foo_alpha(D_n[i]*dt)\n",
    "\n",
    "    C_n_kr = W_n/W_n_1 * (C_n + (dt *(P_n-C_n*D_n))/(1.0+foo_alpha_res*D_n*dt))\n",
    "\n",
    "    if C_n_kr[0] >= 1e-1 and C_n_kr[1] >= 1e-1:\n",
    "        D_n_kr = (np.array([foo_k_r(T)*C_n_kr[1]**(1/2), \n",
    "                            1.0/2*foo_k_r(T)*C_n_kr[0]*C_n_kr[1]**(-1/2),\n",
    "                            0]) + D_n)/2.0\n",
    "    else:\n",
    "        D_n_kr = np.array([0.0,0.0,0.0])\n",
    "\n",
    "    foo_alpha_res = np.array([0.0,0.0,0.0])\n",
    "    for i in range(len(D_n_kr)):\n",
    "        foo_alpha_res[i] = foo_alpha(D_n_kr[i]*dt)\n",
    "\n",
    "\n",
    "    if C_n_kr[0] >= 1e-1 and C_n_kr[1] >= 1e-1:\n",
    "        P_n_kr = foo_alpha_res*np.array([0, \n",
    "                                         0, \n",
    "                                         foo_k_r(T)*C_n_kr[0]*C_n_kr[1]**(1/2)]) + (1.0-foo_alpha_res)*P_n   \n",
    "    else:\n",
    "        P_n_kr = np.array([0.0,0.0,0.0])\n",
    "\n",
    "    return W_n/W_n_1 * (C_n + (dt *(P_n_kr-C_n*D_n_kr))/(1.0+foo_alpha_res*D_n_kr*dt))\n",
    "\n",
    "def termodynamic_system(double p_0, double W_0, double T_0, double hi_second_to_first):\n",
    "    cdef np.ndarray[double, ndim=1] C_n_1, C_n, tau_arr, v_p_arr, p_m_arr, p_b_arr, x_p_arr, T_arr\n",
    "    cdef double v_p0=0, x_p0=0, l_d=4.5, mu_H2O=18e-3, mu_H2=2e-3, mu_O2=32e-3, m_elem=0.52, Q_t=13.4e6, E_ign=0, R_u=8.31446262, p_f=172e6, p_a=1e5, S=np.pi*(45e-3)**2/4\n",
    "    cdef int schetchik, falg_fors, flag_dt, count_dt\n",
    "    # tau, W_n_1, v_p, x_p, T, p_m, value_of_p_gradient, \n",
    "    tau = 0 # время от начала процесса\n",
    "    \n",
    "    C_n_1 = C_initial(p_0, W_0, T_0, hi_second_to_first) # начальный вектор C\n",
    "    C_n = C_n_1\n",
    "    \n",
    "    # начальный показатель адиабаты\n",
    "    k_smesi_T_0 = k_smesi(T_0, \n",
    "                          C_n[0] * W_0, \n",
    "                          C_n[1] * W_0, \n",
    "                          C_n[2] * W_0)\n",
    "    W_n_1 = W_0 # начальный объем\n",
    "    v_p = v_p0 # начальная скорость\n",
    "    x_p = x_p0 # начальная координата\n",
    "    T = T_0 # начальная температура\n",
    "    p_m = p_0 # начальное давление\n",
    "\n",
    "    tau_arr = np.array([])\n",
    "    v_p_arr = np.array([])\n",
    "    p_m_arr = np.array([])\n",
    "    p_b_arr = np.array([])\n",
    "    x_p_arr = np.array([])\n",
    "    T_arr = np.array([])\n",
    "\n",
    "    schetchik = 0\n",
    "    falg_fors = 0\n",
    "    flag_dt = 0\n",
    "    p_last = p_0\n",
    "    count_dt = 0\n",
    "    value_of_p_gradient = 1e-2\n",
    "    \n",
    "    while (x_p <= l_d) and (tau<=7e-3):\n",
    "        schetchik+=1\n",
    "                \n",
    "        if schetchik == 1:\n",
    "            dt = 1e-8\n",
    "            count_dt = 0\n",
    "        elif ((p_m-p_last)/10**6 >= value_of_p_gradient) and (flag_dt == 0) and (count_dt > 10):\n",
    "            dt = 1e-9\n",
    "            flag_dt = 1\n",
    "            count_dt = 0\n",
    "        elif ((p_m-p_last)/10**6 >= value_of_p_gradient) and (flag_dt == 1) and (count_dt > 10):\n",
    "            dt = 1e-10\n",
    "            flag_dt = 2\n",
    "            count_dt = 0\n",
    "        elif ((p_m-p_last)/10**6 >= value_of_p_gradient) and (flag_dt == 2) and (count_dt > 10):\n",
    "            dt = 1e-11\n",
    "            flag_dt = 3\n",
    "            count_dt = 0\n",
    "        elif ((p_m-p_last)/10**6 >= value_of_p_gradient) and (flag_dt == 3) and (count_dt > 10):\n",
    "            dt = 1e-12\n",
    "            flag_dt = 4\n",
    "            count_dt = 0\n",
    "        elif ((p_m-p_last)/10**6 >= value_of_p_gradient) and (flag_dt == 4) and (count_dt > 10):\n",
    "            dt = 1e-13\n",
    "            flag_dt = 5\n",
    "            count_dt = 0\n",
    "        elif ((p_m-p_last)/10**6 >= value_of_p_gradient) and (flag_dt == 5) and (count_dt > 10):\n",
    "            dt = 1e-14\n",
    "            flag_dt = 6\n",
    "            count_dt = 0\n",
    "        elif ((p_m-p_last)/10**6 >= value_of_p_gradient) and (flag_dt == 6) and (count_dt > 10):\n",
    "            dt = 1e-15\n",
    "            flag_dt = 7\n",
    "            count_dt = 0\n",
    "        elif (round(p_m/10**6,3)-round(p_last/10**6,3) <= 0) and (flag_dt > 0) and (count_dt > 10):\n",
    "            dt = 1e-6\n",
    "\n",
    "            \n",
    "        count_dt += 1\n",
    "        \n",
    "        p_last = p_m\n",
    "        \n",
    "        tau += dt\n",
    "\n",
    "        C_n = C_n_1\n",
    "\n",
    "        W_n = W_n_1\n",
    "\n",
    "        M_p = mu_H2O * C_n[2] * W_n\n",
    "\n",
    "        n_H2 = C_n[0] * W_n\n",
    "        n_O2 = C_n[1] * W_n\n",
    "        n_H2O = C_n[2] * W_n\n",
    "\n",
    "        m_H2 = n_H2 * mu_H2\n",
    "        m_O2 = n_O2 * mu_O2\n",
    "        m_H2O = n_H2O * mu_H2O\n",
    "\n",
    "        n_smesi = n_H2 + n_O2 + n_H2O\n",
    "\n",
    "        phi = (1+(m_H2 + m_O2 + m_H2O)/(3*m_elem))\n",
    "        \n",
    "        p_m = (k_smesi(T, n_H2, n_O2,n_H2O)-1)/W_n * ((p_0*W_0)/(k_smesi_T_0-1) + Q_t*M_p - E_ign - phi/2*m_elem*v_p**2) # среднебаллистическое давление\n",
    "        \n",
    "        T = p_m*W_n/(R_u*n_smesi)\n",
    "\n",
    "        if p_m <= p_f and falg_fors == 0:\n",
    "            dv_p = 0\n",
    "        elif p_m <= p_f and falg_fors == 1:\n",
    "            dv_p = (p_m - p_a)*S/(phi*m_elem) * dt\n",
    "        elif  p_m > p_f:\n",
    "            falg_fors = 1\n",
    "            dv_p = (p_m - p_a)*S/(phi*m_elem) * dt # диф. скорости МЭ\n",
    "\n",
    "        v_p += dv_p # скорость МЭ\n",
    "\n",
    "        dx_p = v_p * dt # диф. координаты МЭ\n",
    "\n",
    "        x_p += dx_p  # координата МЭ\n",
    "\n",
    "        W_n_1 = W_0 + x_p*S  # Заснарядный объем на n+1 шаге\n",
    "\n",
    "        W_n = W_0 + (x_p-dx_p)*S # Заснарядный объем на n шаге\n",
    "\n",
    "        C_n_1 = alpha_QSS(C_n, T, dt, W_n, W_n_1)\n",
    "        \n",
    "        p_b = p_m * (1+(m_H2 + m_O2 + m_H2O)/(2*m_elem))/(1+(m_H2 + m_O2 + m_H2O)/(3*m_elem))\n",
    "               \n",
    "        if schetchik % 1_000 == 0:\n",
    "            tau_arr = np.append(tau_arr, tau)\n",
    "            x_p_arr = np.append(x_p_arr, x_p)\n",
    "            v_p_arr = np.append(v_p_arr, v_p)\n",
    "            T_arr = np.append(T_arr, T)\n",
    "            p_m_arr = np.append(p_m_arr, p_m)\n",
    "            p_b_arr = np.append(p_b_arr, p_m)\n",
    "#             print(tau, x_p, v_p, p_m/10**6, (p_m - p_last)/10**6, C_n_1, dt)\n",
    "\n",
    "    tau_arr = np.append(tau_arr, tau)\n",
    "    x_p_arr = np.append(x_p_arr, x_p)\n",
    "    v_p_arr = np.append(v_p_arr, v_p)\n",
    "    T_arr = np.append(T_arr, T)\n",
    "    p_m_arr = np.append(p_m_arr, p_m)\n",
    "    p_b_arr = np.append(p_b_arr, p_m)\n",
    "\n",
    "    return {'tau':tau_arr, 'x_p':x_p_arr,\n",
    "           'v_p':v_p_arr, 'T':T_arr, 'p_m':p_m_arr, 'p_b':p_b_arr}"
   ]
  },
  {
   "cell_type": "code",
   "execution_count": 9,
   "id": "eb671ce4",
   "metadata": {
    "scrolled": true
   },
   "outputs": [
    {
     "name": "stdout",
     "output_type": "stream",
     "text": [
      "Wall time: 3.92 s\n"
     ]
    }
   ],
   "source": [
    "%%time\n",
    "res = termodynamic_system(p_0, W_0, T_0, 1/12)"
   ]
  },
  {
   "cell_type": "code",
   "execution_count": 10,
   "id": "240749a5",
   "metadata": {},
   "outputs": [
    {
     "name": "stdout",
     "output_type": "stream",
     "text": [
      "Wall time: 3.92 s\n"
     ]
    }
   ],
   "source": [
    "%%time\n",
    "res = termodynamic_system(p_0, W_0, T_0, 1/10)"
   ]
  },
  {
   "cell_type": "code",
   "execution_count": 11,
   "id": "f5a9e67b",
   "metadata": {},
   "outputs": [
    {
     "name": "stdout",
     "output_type": "stream",
     "text": [
      "Wall time: 4.5 s\n"
     ]
    }
   ],
   "source": [
    "%%time\n",
    "res = termodynamic_system(p_0, W_0, T_0, 1/8)"
   ]
  },
  {
   "cell_type": "code",
   "execution_count": 12,
   "id": "8b8e129f",
   "metadata": {},
   "outputs": [
    {
     "name": "stdout",
     "output_type": "stream",
     "text": [
      "Wall time: 4.31 s\n"
     ]
    }
   ],
   "source": [
    "%%time\n",
    "res = termodynamic_system(p_0, W_0, T_0, 1/6)"
   ]
  },
  {
   "cell_type": "code",
   "execution_count": 13,
   "id": "03129f1b",
   "metadata": {},
   "outputs": [
    {
     "name": "stdout",
     "output_type": "stream",
     "text": [
      "Wall time: 4.22 s\n"
     ]
    }
   ],
   "source": [
    "%%time\n",
    "res = termodynamic_system(p_0, W_0, T_0, 1/4)"
   ]
  },
  {
   "cell_type": "code",
   "execution_count": 14,
   "id": "f715568e",
   "metadata": {},
   "outputs": [
    {
     "name": "stdout",
     "output_type": "stream",
     "text": [
      "Wall time: 4.49 s\n"
     ]
    }
   ],
   "source": [
    "%%time\n",
    "res = termodynamic_system(p_0, W_0, T_0, 1/2)"
   ]
  },
  {
   "cell_type": "code",
   "execution_count": 15,
   "id": "e5c36361",
   "metadata": {},
   "outputs": [
    {
     "name": "stdout",
     "output_type": "stream",
     "text": [
      "Wall time: 4.63 s\n"
     ]
    }
   ],
   "source": [
    "%%time\n",
    "res = termodynamic_system(p_0, W_0, T_0, 1/1)"
   ]
  },
  {
   "cell_type": "code",
   "execution_count": 16,
   "id": "fa4ee715",
   "metadata": {},
   "outputs": [
    {
     "name": "stdout",
     "output_type": "stream",
     "text": [
      "Wall time: 5.05 s\n"
     ]
    }
   ],
   "source": [
    "%%time\n",
    "res = termodynamic_system(p_0, W_0, T_0, 2)"
   ]
  },
  {
   "cell_type": "code",
   "execution_count": 17,
   "id": "b6044700",
   "metadata": {},
   "outputs": [
    {
     "name": "stdout",
     "output_type": "stream",
     "text": [
      "Wall time: 5.66 s\n"
     ]
    }
   ],
   "source": [
    "%%time\n",
    "res = termodynamic_system(p_0, W_0, T_0, 4)"
   ]
  },
  {
   "cell_type": "code",
   "execution_count": 18,
   "id": "904a006f",
   "metadata": {},
   "outputs": [
    {
     "name": "stdout",
     "output_type": "stream",
     "text": [
      "Wall time: 6.88 s\n"
     ]
    }
   ],
   "source": [
    "%%time\n",
    "res = termodynamic_system(p_0, W_0, T_0, 6)"
   ]
  },
  {
   "cell_type": "code",
   "execution_count": 19,
   "id": "ccb350e5",
   "metadata": {},
   "outputs": [
    {
     "name": "stdout",
     "output_type": "stream",
     "text": [
      "Wall time: 8.3 s\n"
     ]
    }
   ],
   "source": [
    "%%time\n",
    "res = termodynamic_system(p_0, W_0, T_0, 8)"
   ]
  },
  {
   "cell_type": "code",
   "execution_count": 20,
   "id": "3fa79b66",
   "metadata": {},
   "outputs": [],
   "source": [
    "df = pd.DataFrame.from_dict(res)"
   ]
  },
  {
   "cell_type": "code",
   "execution_count": 21,
   "id": "324e8aee",
   "metadata": {},
   "outputs": [
    {
     "data": {
      "text/html": [
       "<div>\n",
       "<style scoped>\n",
       "    .dataframe tbody tr th:only-of-type {\n",
       "        vertical-align: middle;\n",
       "    }\n",
       "\n",
       "    .dataframe tbody tr th {\n",
       "        vertical-align: top;\n",
       "    }\n",
       "\n",
       "    .dataframe thead th {\n",
       "        text-align: right;\n",
       "    }\n",
       "</style>\n",
       "<table border=\"1\" class=\"dataframe\">\n",
       "  <thead>\n",
       "    <tr style=\"text-align: right;\">\n",
       "      <th></th>\n",
       "      <th>tau</th>\n",
       "      <th>x_p</th>\n",
       "      <th>v_p</th>\n",
       "      <th>T</th>\n",
       "      <th>p_m</th>\n",
       "      <th>p_b</th>\n",
       "    </tr>\n",
       "  </thead>\n",
       "  <tbody>\n",
       "    <tr>\n",
       "      <th>0</th>\n",
       "      <td>0.00001</td>\n",
       "      <td>0.0</td>\n",
       "      <td>0.0</td>\n",
       "      <td>300.044679</td>\n",
       "      <td>3.450506e+07</td>\n",
       "      <td>3.450506e+07</td>\n",
       "    </tr>\n",
       "    <tr>\n",
       "      <th>1</th>\n",
       "      <td>0.00002</td>\n",
       "      <td>0.0</td>\n",
       "      <td>0.0</td>\n",
       "      <td>300.089556</td>\n",
       "      <td>3.451015e+07</td>\n",
       "      <td>3.451015e+07</td>\n",
       "    </tr>\n",
       "    <tr>\n",
       "      <th>2</th>\n",
       "      <td>0.00003</td>\n",
       "      <td>0.0</td>\n",
       "      <td>0.0</td>\n",
       "      <td>300.134591</td>\n",
       "      <td>3.451525e+07</td>\n",
       "      <td>3.451525e+07</td>\n",
       "    </tr>\n",
       "    <tr>\n",
       "      <th>3</th>\n",
       "      <td>0.00004</td>\n",
       "      <td>0.0</td>\n",
       "      <td>0.0</td>\n",
       "      <td>300.179786</td>\n",
       "      <td>3.452037e+07</td>\n",
       "      <td>3.452037e+07</td>\n",
       "    </tr>\n",
       "    <tr>\n",
       "      <th>4</th>\n",
       "      <td>0.00005</td>\n",
       "      <td>0.0</td>\n",
       "      <td>0.0</td>\n",
       "      <td>300.225142</td>\n",
       "      <td>3.452551e+07</td>\n",
       "      <td>3.452551e+07</td>\n",
       "    </tr>\n",
       "  </tbody>\n",
       "</table>\n",
       "</div>"
      ],
      "text/plain": [
       "       tau  x_p  v_p           T           p_m           p_b\n",
       "0  0.00001  0.0  0.0  300.044679  3.450506e+07  3.450506e+07\n",
       "1  0.00002  0.0  0.0  300.089556  3.451015e+07  3.451015e+07\n",
       "2  0.00003  0.0  0.0  300.134591  3.451525e+07  3.451525e+07\n",
       "3  0.00004  0.0  0.0  300.179786  3.452037e+07  3.452037e+07\n",
       "4  0.00005  0.0  0.0  300.225142  3.452551e+07  3.452551e+07"
      ]
     },
     "execution_count": 21,
     "metadata": {},
     "output_type": "execute_result"
    }
   ],
   "source": [
    "df.head()"
   ]
  },
  {
   "cell_type": "code",
   "execution_count": 22,
   "id": "7becbeb4",
   "metadata": {
    "scrolled": true
   },
   "outputs": [
    {
     "data": {
      "text/plain": [
       "(355, 6)"
      ]
     },
     "execution_count": 22,
     "metadata": {},
     "output_type": "execute_result"
    }
   ],
   "source": [
    "df.shape"
   ]
  },
  {
   "cell_type": "code",
   "execution_count": 23,
   "id": "17ba8dfa",
   "metadata": {},
   "outputs": [
    {
     "data": {
      "text/plain": [
       "(129.62529590307665, 129.62529590307665, 0.0)"
      ]
     },
     "execution_count": 23,
     "metadata": {},
     "output_type": "execute_result"
    }
   ],
   "source": [
    "df.p_m.max()/10**6, df.p_b.max()/10**6,df.loc[df.shape[0]-1].v_p"
   ]
  },
  {
   "cell_type": "code",
   "execution_count": 24,
   "id": "43671228",
   "metadata": {},
   "outputs": [
    {
     "data": {
      "image/png": "[encoded data removed]",
      "text/plain": [
       "<Figure size 500x300 with 1 Axes>"
      ]
     },
     "metadata": {},
     "output_type": "display_data"
    }
   ],
   "source": [
    "plt.figure(figsize=(5,3))\n",
    "plt.plot(df.tau, df.p_m/10**6)\n",
    "plt.xlabel('t, с')\n",
    "plt.ylabel('p_m, МПа')\n",
    "plt.grid()"
   ]
  },
  {
   "cell_type": "code",
   "execution_count": 25,
   "id": "85906e83",
   "metadata": {},
   "outputs": [
    {
     "data": {
      "image/png": "[encoded data removed]",
      "text/plain": [
       "<Figure size 500x300 with 1 Axes>"
      ]
     },
     "metadata": {},
     "output_type": "display_data"
    }
   ],
   "source": [
    "plt.figure(figsize=(5,3))\n",
    "plt.plot(df.tau, df.p_b/10**6)\n",
    "plt.xlabel('t, с')\n",
    "plt.ylabel('p_b, МПа')\n",
    "plt.grid()"
   ]
  },
  {
   "cell_type": "code",
   "execution_count": 26,
   "id": "9db9000b",
   "metadata": {},
   "outputs": [
    {
     "data": {
      "image/png": "[encoded data removed]",
      "text/plain": [
       "<Figure size 500x300 with 1 Axes>"
      ]
     },
     "metadata": {},
     "output_type": "display_data"
    }
   ],
   "source": [
    "plt.figure(figsize=(5,3))\n",
    "plt.plot(df.tau, df.v_p)\n",
    "plt.xlabel('t, с')\n",
    "plt.ylabel('v_p, м/с')\n",
    "plt.grid()"
   ]
  },
  {
   "cell_type": "code",
   "execution_count": 27,
   "id": "7e8e5aaf",
   "metadata": {},
   "outputs": [
    {
     "data": {
      "image/png": "[encoded data removed]",
      "text/plain": [
       "<Figure size 500x300 with 1 Axes>"
      ]
     },
     "metadata": {},
     "output_type": "display_data"
    }
   ],
   "source": [
    "plt.figure(figsize=(5,3))\n",
    "plt.plot(df.tau, df.x_p)\n",
    "plt.xlabel('t, с')\n",
    "plt.ylabel('x_p, м')\n",
    "plt.grid()"
   ]
  },
  {
   "cell_type": "code",
   "execution_count": 28,
   "id": "6d22a414",
   "metadata": {},
   "outputs": [
    {
     "data": {
      "image/png": "[encoded data removed]",
      "text/plain": [
       "<Figure size 500x300 with 1 Axes>"
      ]
     },
     "metadata": {},
     "output_type": "display_data"
    }
   ],
   "source": [
    "plt.figure(figsize=(5,3))\n",
    "plt.plot(df.tau, df['T'])\n",
    "plt.xlabel('t, с')\n",
    "plt.ylabel('T, К')\n",
    "plt.grid()"
   ]
  },
  {
   "cell_type": "code",
   "execution_count": null,
   "id": "00ecd8bc",
   "metadata": {},
   "outputs": [],
   "source": []
  }
 ],
 "metadata": {
  "kernelspec": {
   "display_name": "Python 3 (ipykernel)",
   "language": "python",
   "name": "python3"
  },
  "language_info": {
   "codemirror_mode": {
    "name": "ipython",
    "version": 3
   },
   "file_extension": ".py",
   "mimetype": "text/x-python",
   "name": "python",
   "nbconvert_exporter": "python",
   "pygments_lexer": "ipython3",
   "version": "3.9.13"
  }
 },
 "nbformat": 4,
 "nbformat_minor": 5
}
