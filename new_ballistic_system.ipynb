{
 "cells": [
  {
   "cell_type": "code",
   "execution_count": 1,
   "id": "13b41ac3",
   "metadata": {},
   "outputs": [],
   "source": [
    "import numpy as np\n",
    "import math\n",
    "import matplotlib.pyplot as plt\n",
    "import matplotlib\n",
    "import pandas as pd\n",
    "\n",
    "rc = {\"font.family\" : \"serif\", \n",
    "      \"mathtext.fontset\" : \"stix\"}\n",
    "plt.rcParams.update(rc)\n",
    "plt.rcParams[\"font.serif\"] = [\"Times New Roman\"] + plt.rcParams[\"font.serif\"]\n",
    "matplotlib.rcParams.update({'font.size': 12})"
   ]
  },
  {
   "cell_type": "code",
   "execution_count": 2,
   "id": "cd636f58",
   "metadata": {},
   "outputs": [],
   "source": [
    "def foo_k_r(T):\n",
    "    return k_r0 * math.e**(-E_a/(R_u*T))"
   ]
  },
  {
   "cell_type": "code",
   "execution_count": 3,
   "id": "d83a5fb6",
   "metadata": {},
   "outputs": [],
   "source": [
    "def foo_k(T, gas_name):\n",
    "    if gas_name == 'H2':\n",
    "        a0 = 0.3975\n",
    "        a1 = 0.4814/10**4\n",
    "        a2 = -1.073/10**7\n",
    "        a3 = 4.6863/10**11\n",
    "        a4 = -8.5361/10**15\n",
    "        a5 = 5.6934/10**19\n",
    "    elif gas_name == 'O2':\n",
    "        a0 = 0.4697\n",
    "        a1 = -2.9819/10**4\n",
    "        a2 = 2.0320/10**7\n",
    "        a3 = -7.1938/10**11\n",
    "        a4 = 12.311/10**15\n",
    "        a5 = -8.0736/10**19\n",
    "    elif gas_name == 'H2O':\n",
    "        a0 = 0.3834\n",
    "        a1 = -1.8579/10**4\n",
    "        a2 = 0.6266/10**7\n",
    "        a3 = -1.0528/10**11\n",
    "        a4 = 0.93554/10**15\n",
    "        a5 = -0.38512/10**19\n",
    "    else:\n",
    "        print('Houston we have a problem')\n",
    "    return 1 + a0 + a1*T + a2*T**2 + a3*T**3 + a4*T**4 + a5*T**5"
   ]
  },
  {
   "cell_type": "code",
   "execution_count": 4,
   "id": "1f89f541",
   "metadata": {},
   "outputs": [],
   "source": [
    "def foo_alpha(r):\n",
    "    if r != 0:\n",
    "        a = 1 - math.e**(-r)\n",
    "        return (1-a/r)/a\n",
    "    else:\n",
    "        return 0.5"
   ]
  },
  {
   "cell_type": "code",
   "execution_count": 31,
   "id": "105715f2",
   "metadata": {},
   "outputs": [],
   "source": [
    "# параметры установки\n",
    "d = 45*10**(-3) # калибр\n",
    "S = math.pi*d**2/4 # площадь\n",
    "W_0 = 0.005 # объем каморы\n",
    "l_d = 4.5 # длина ствола\n",
    "m_elem = 0.52 # масса МЭ\n",
    "p_0 = 34.5 * 10**6 # начальное давление\n",
    "p_f = 172 * 10**6 # давление форсирования\n",
    "k_r0 = 9.87 * 10**8 # предэскп. множитель \n",
    "\n",
    "Q_t = 13.4 * 10**6 # энергия образования 1 кг продуктов реакций ???\n",
    "E_ign = 0 # энергия воспламенителя\n",
    "E_a = 60*10**3 # энергия активации\n",
    "\n",
    "v_p0 = 0 # начальная скорость\n",
    "x_p0 = 0 # начальная координата\n",
    "p_a = 10**5 # атмосфэрное давление"
   ]
  },
  {
   "cell_type": "code",
   "execution_count": 32,
   "id": "c22a0267",
   "metadata": {},
   "outputs": [],
   "source": [
    "mu_H2 = 2*10**(-3) # молярная масса водорода\n",
    "mu_O2 = 32*10**(-3) # молярная масса кислорода\n",
    "mu_H2O = 18*10**(-3) # молярная масса воды"
   ]
  },
  {
   "cell_type": "code",
   "execution_count": 33,
   "id": "26784012",
   "metadata": {},
   "outputs": [],
   "source": [
    "p_0 = 34.5 * 10**6 # начальное давления\n",
    "T_0 = 300 # начальная температура\n",
    "R_u = 8.31446262 # универсальная газовая постоянная\n",
    "hi_O2_and_H2_0 = 8 # начальное соотношение мольных долей"
   ]
  },
  {
   "cell_type": "code",
   "execution_count": 34,
   "id": "c97e1cfa",
   "metadata": {},
   "outputs": [],
   "source": [
    "# термодинамика\n",
    "# R = foo_k_r * () # универсальная газовая постоянная\n",
    "# m_g_0 = (2*mu_H2+mu_O2) * R_u * T_0/ (p_0 * W_0)\n",
    "# print(m_g_0)\n",
    "# rho_0 = m_g_0/W_0\n",
    "# rho_0 = p_0/(R_u*T_0) # начальная плотность газа\n",
    "# m_g_0 = rho_0*W_0 # начальная масса газа\n",
    "\n",
    "# hi_O2_and_H2_0 = 8 # начальное соотношение мольных долей\n",
    "# ratio_m_O2_and_m_H2_0 = hi_O2_and_H2_0*mu_O2/mu_H2 # начальное соотношение масс газа через мольные доли, скрин \"мольные доли.png\"\n",
    "\n",
    "# m_H2_0 = m_g_0 / (ratio_m_O2_and_m_H2_0+1) # начальная масса водорода\n",
    "# m_O2_0 = m_H2_0 * ratio_m_O2_and_m_H2_0 # начальная масса кислорода\n",
    "\n",
    "# n_H2_0 = m_H2_0/mu_H2 # начальное количества вещества водорода\n",
    "# n_O2_0 =  m_O2_0/mu_O2 # начальное количества вещества кислорода\n",
    "\n",
    "# С_H2_0 = n_H2_0/W_0 # начальная молярная концентрация водорода\n",
    "# С_O2_0 = n_O2_0/W_0 # начальная молярная концентрация кислорода\n",
    "\n",
    "# C_H2O_0 = 0 # нет продуктов реакции в начальный момент времени"
   ]
  },
  {
   "cell_type": "code",
   "execution_count": 35,
   "id": "786a2e79",
   "metadata": {},
   "outputs": [],
   "source": [
    "n_smesi = p_0 * W_0/(R_u * T_0)\n",
    "m_O2_0 = n_smesi * mu_O2 / (hi_O2_and_H2_0 * mu_O2/mu_H2+1)\n",
    "m_H2_0 = n_smesi * mu_H2 - m_O2_0 / mu_O2 * mu_H2"
   ]
  },
  {
   "cell_type": "code",
   "execution_count": 36,
   "id": "c0acede6",
   "metadata": {},
   "outputs": [],
   "source": [
    "n_H2_0 = m_H2_0/mu_H2 # начальное количества вещества водорода\n",
    "n_O2_0 =  m_O2_0/mu_O2 # начальное количества вещества кислорода"
   ]
  },
  {
   "cell_type": "code",
   "execution_count": 37,
   "id": "a49d48f0",
   "metadata": {},
   "outputs": [],
   "source": [
    "С_H2_0 = n_H2_0/W_0 # начальная молярная концентрация водорода\n",
    "С_O2_0 = n_O2_0/W_0 # начальная молярная концентрация кислорода\n",
    "C_H2O_0 = 0 # нет продуктов реакции в начальный момент времени"
   ]
  },
  {
   "cell_type": "code",
   "execution_count": 47,
   "id": "a4576377",
   "metadata": {},
   "outputs": [
    {
     "name": "stdout",
     "output_type": "stream",
     "text": [
      "0.02615785795176285\n",
      "0.10430534668969829\n",
      "0.23276028009458896\n",
      "0.40895041157428735\n",
      "0.6296937434039895\n",
      "0.8914841696787069\n",
      "1.1907345451097353\n",
      "1.5239552543668813\n",
      "1.8878679360731916\n",
      "2.2794658435991573\n",
      "2.6960358097926336\n",
      "3.1351554557376815\n",
      "3.5946761333761112\n",
      "4.072698841696741\n"
     ]
    }
   ],
   "source": [
    "tau = 0 # время от начала процесса\n",
    "C_n_1 = np.array([С_H2_0, С_O2_0, C_H2O_0]) # начальный вектор C\n",
    "P_n = np.array([0, 0, foo_k_r(T_0)*C_n_1[0]*C_n_1[1]**(1/2)]) # начальный вектор Р\n",
    "D_n = np.array([foo_k_r(T_0)*C_n_1[1]**(1/2), 1/2*foo_k_r(T_0)*C_n_1[0]*C_n_1[1]**(-1/2),0]) # начальный вектор D\n",
    "W_n_1 = W_0 # начальный объем\n",
    "v_p = v_p0 # начальная скорость\n",
    "\n",
    "tau_arr = []\n",
    "C_H2_arr = []\n",
    "C_O2_arr = []\n",
    "C_H2O_arr = []\n",
    "m_H2_arr = []\n",
    "m_O2_arr = []\n",
    "m_H2O_arr = []\n",
    "v_p_arr = []\n",
    "p_m_arr = []\n",
    "x_p_arr = []\n",
    "M_p_arr = []\n",
    "# rho_arr = []\n",
    "T_arr = []\n",
    "\n",
    "tau_arr = np.array(tau_arr)\n",
    "C_H2_arr = np.array(C_H2_arr)\n",
    "C_O2_arr = np.array(C_O2_arr)\n",
    "C_H2O_arr = np.array(C_H2O_arr)\n",
    "m_H2_arr = np.array(m_H2_arr)\n",
    "m_O2_arr = np.array(m_O2_arr)\n",
    "m_H2O_arr = np.array(m_H2O_arr)\n",
    "v_p_arr = np.array(v_p_arr)\n",
    "p_m_arr = np.array(p_m_arr)\n",
    "x_p_arr = np.array(x_p_arr)\n",
    "M_p_arr = np.array(M_p_arr)\n",
    "# rho_arr = np.array(rho_arr)\n",
    "T_arr = np.array(T_arr)\n",
    "\n",
    "dt=5e-8\n",
    "x_p = x_p0\n",
    "T = T_0\n",
    "\n",
    "schetchik=0\n",
    "\n",
    "while x_p <= l_d: # условие цикла, пока МЭ не покинул дульный срез\n",
    "    schetchik+=1\n",
    "    tau += dt # время от начала процесса\n",
    "    tau_arr = np.append(tau_arr, tau)\n",
    "    \n",
    "    C_n = C_n_1 # вектор С\n",
    "    C_H2_arr = np.append(C_H2_arr, C_n[0])\n",
    "    C_O2_arr = np.append(C_O2_arr, C_n[1])\n",
    "    C_H2O_arr = np.append(C_H2O_arr, C_n[2])\n",
    "    \n",
    "    W_n = W_n_1\n",
    "    \n",
    "    n_H2 = C_n[0] * W_n # количество вещества водорода\n",
    "    n_O2 = C_n[1] * W_n # количество вещества кислорода\n",
    "    n_H2O = C_n[2] * W_n # количество вещества воды\n",
    "    \n",
    "    m_H2 = n_H2 * mu_H2 # масса водорода\n",
    "    m_O2 = n_O2 * mu_O2 # масса кислорода\n",
    "    m_H2O = n_H2O * mu_H2O # масса воды\n",
    "    m_H2_arr = np.append(m_H2_arr, m_H2)\n",
    "    m_O2_arr = np.append(m_O2_arr, m_O2)\n",
    "    m_H2O_arr = np.append(m_H2O_arr, m_H2O)\n",
    "    n_smesi = n_H2 + n_O2 + n_H2O # количество вещества смеси\n",
    "    \n",
    "\n",
    "    P_n = np.array([0, 0, foo_k_r(T)*C_n[0]*C_n[1]**(1/2)]) # вектор P\n",
    "    D_n = np.array([foo_k_r(T)*C_n[1]**(1/2), 1/2*foo_k_r(T)*C_n[0]*C_n[1]**(-1/2),0]) # вектор D\n",
    "    \n",
    "\n",
    "    M_p = mu_H2O * C_n[2] * W_n # масса продуктов реакции\n",
    "    M_p_arr = np.append(M_p_arr, M_p)\n",
    "\n",
    "    phi = (1+(m_H2 + m_O2 + m_H2O)/(3*m_elem)) # фиктивность, масса всего\n",
    "    \n",
    "    # расчет показателя адиабаты смеси\n",
    "    help_value = (n_H2/(foo_k(T,'H2')-1) + n_O2/(foo_k(T,'O2')-1) + n_H2O/(foo_k(T,'H2O')-1))**(-1)\n",
    "    k_smesi = 1 + n_H2*help_value + n_O2*help_value + n_H2O*help_value # показатель адиабаты смеси для формулы 4.5\n",
    "    \n",
    "    \n",
    "    p_m = (k_smesi-1)/W_n * ((p_0*W_0)/(foo_k(T_0, 'H2O')-1) + Q_t*M_p - E_ign - phi/2*m_elem*v_p**2) # среднебаллистическое давление\n",
    "\n",
    "    p_m_arr = np.append(p_m_arr, p_m)\n",
    "\n",
    "    T = p_m*W_n/(R_u*n_smesi)\n",
    "    T_arr = np.append(T_arr,T)\n",
    "    \n",
    "    dv_p = (p_m - p_a)*S/(phi*m_elem) * dt # диф. скорости МЭ\n",
    "    \n",
    "    v_p += dv_p # скорость МЭ\n",
    "    v_p_arr = np.append(v_p_arr, v_p)\n",
    "    \n",
    "    dx_p = v_p * dt # диф. координаты МЭ\n",
    "    \n",
    "    x_p += dx_p  # координата МЭ\n",
    "    x_p_arr = np.append(x_p_arr, x_p)\n",
    "    \n",
    "    W_n_1 = W_0 + x_p*S  # Заснарядный объем на n+1 шаге\n",
    "    \n",
    "    W_n = W_0 + (x_p-dx_p)*S # Заснарядный объем на n шаге\n",
    "           \n",
    "    foo_alpha_res = np.array([]) # значение умножения алфа функции от произведения вектора D на tau, \n",
    "    for i in range(len(D_n)):\n",
    "        foo_alpha_res = np.append(foo_alpha_res, foo_alpha(D_n[i]*tau))\n",
    "        \n",
    "    C_n_kr = W_n/W_n_1 * (C_n + (tau *(P_n-C_n*D_n))/(1+foo_alpha_res*D_n*tau)) # Предиктор вектора С\n",
    "   \n",
    "    # D_n_kr = (D_n*C_n_kr + D_n*C_n)/2 # Предиктор вектора D\n",
    "    if C_n[0]>=1e-4 and C_n[1]>=1e-4:\n",
    "        D_n_kr = (np.array([foo_k_r(T)*C_n_kr[1]**(1/2), 1/2*foo_k_r(T)*C_n_kr[0]*C_n_kr[1]**(-1/2),0]) + np.array([foo_k_r(T)*C_n[1]**(1/2), 1/2*foo_k_r(T)*C_n[0]*C_n[1]**(-1/2),0]))/2 # Предиктор вектора D\n",
    "    else:\n",
    "         D_n_kr = np.array([0,0,0])\n",
    "    foo_alpha_res = np.array([]) # значение умножения алфа функции от произведения вектора D на tau, \n",
    "    for i in range(len(D_n_kr)):\n",
    "        foo_alpha_res = np.append(foo_alpha_res, foo_alpha(D_n_kr[i]*tau))\n",
    "    \n",
    "    # P_n_kr = foo_alpha_res*P_n*C_n_kr + (1-foo_alpha_res)*P_n*C_n # Предиктор вектора P\n",
    "    if C_n[0]>=1e-4 and C_n[1]>=1e-4:\n",
    "        P_n_kr = foo_alpha_res*np.array([0, 0, foo_k_r(T)*C_n_kr[0]*C_n_kr[1]**(1/2)]) + (1-foo_alpha_res)*np.array([0, 0, foo_k_r(T)*C_n[0]*C_n[1]**(1/2)]) # Предиктор вектора P    \n",
    "    else:\n",
    "        P_n_kr = np.array([0, 0, 0])\n",
    "    C_n_1 = W_n/W_n_1 * (C_n + (tau *(P_n_kr-C_n*D_n_kr))/(1+foo_alpha_res*D_n_kr*tau)) # Корректор вектора С\n",
    "    \n",
    "    if schetchik % 10000 == 0:\n",
    "        print(x_p)"
   ]
  },
  {
   "cell_type": "code",
   "execution_count": 48,
   "id": "e5ffb421",
   "metadata": {},
   "outputs": [
    {
     "data": {
      "text/plain": [
       "148654"
      ]
     },
     "execution_count": 48,
     "metadata": {},
     "output_type": "execute_result"
    }
   ],
   "source": [
    "len(tau_arr)"
   ]
  },
  {
   "cell_type": "code",
   "execution_count": 49,
   "id": "e2f653d5",
   "metadata": {},
   "outputs": [
    {
     "data": {
      "text/plain": [
       "1001.3532114020921"
      ]
     },
     "execution_count": 49,
     "metadata": {},
     "output_type": "execute_result"
    }
   ],
   "source": [
    "v_p"
   ]
  },
  {
   "cell_type": "code",
   "execution_count": 50,
   "id": "e613a221",
   "metadata": {},
   "outputs": [
    {
     "data": {
      "image/png": "[encoded data removed]",
      "text/plain": [
       "<Figure size 500x300 with 1 Axes>"
      ]
     },
     "metadata": {},
     "output_type": "display_data"
    }
   ],
   "source": [
    "plt.figure(figsize=(5,3))\n",
    "plt.plot(tau_arr, x_p_arr)\n",
    "plt.xlabel('Время, с')\n",
    "plt.ylabel('Путь МЭ, м')\n",
    "plt.grid()"
   ]
  },
  {
   "cell_type": "code",
   "execution_count": 51,
   "id": "87869c5d",
   "metadata": {},
   "outputs": [
    {
     "data": {
      "image/png": "[encoded data removed]",
      "text/plain": [
       "<Figure size 500x300 with 1 Axes>"
      ]
     },
     "metadata": {},
     "output_type": "display_data"
    }
   ],
   "source": [
    "plt.figure(figsize=(5,3))\n",
    "plt.plot(tau_arr, v_p_arr)\n",
    "plt.xlabel('Время, с')\n",
    "plt.ylabel('Путь МЭ, м/с')\n",
    "plt.grid()"
   ]
  },
  {
   "cell_type": "code",
   "execution_count": 52,
   "id": "bd735d6f",
   "metadata": {},
   "outputs": [
    {
     "data": {
      "text/plain": [
       "(array([0.13724101, 0.13724085, 0.13724052, ..., 0.13342062, 0.13342062,\n",
       "        0.13342062]),\n",
       " array([1.71551266e-02, 1.71537920e-02, 1.71512049e-02, ...,\n",
       "        8.61746373e-16, 8.61746373e-16, 8.61746373e-16]),\n",
       " array([0.00000000e+00, 1.50144258e-06, 4.41202643e-06, ...,\n",
       "        3.44718936e-02, 3.44718936e-02, 3.44718936e-02]))"
      ]
     },
     "execution_count": 52,
     "metadata": {},
     "output_type": "execute_result"
    }
   ],
   "source": [
    "m_H2_arr, m_O2_arr, m_H2O_arr"
   ]
  },
  {
   "cell_type": "code",
   "execution_count": 53,
   "id": "6c62e1fe",
   "metadata": {},
   "outputs": [],
   "source": [
    "# p_m зависит от v_p, v_p зависит от dv_p, что зависит от dt"
   ]
  },
  {
   "cell_type": "code",
   "execution_count": 54,
   "id": "e458ee69",
   "metadata": {},
   "outputs": [
    {
     "data": {
      "image/png": "[encoded data removed]",
      "text/plain": [
       "<Figure size 500x300 with 1 Axes>"
      ]
     },
     "metadata": {},
     "output_type": "display_data"
    }
   ],
   "source": [
    "plt.figure(figsize=(5,3))\n",
    "plt.plot(tau_arr, p_m_arr/10**6)\n",
    "plt.xlabel('Время, с')\n",
    "plt.ylabel('Среднебаллистическое давление, МПа')\n",
    "plt.grid()"
   ]
  },
  {
   "cell_type": "code",
   "execution_count": null,
   "id": "d01733f0",
   "metadata": {},
   "outputs": [],
   "source": []
  }
 ],
 "metadata": {
  "kernelspec": {
   "display_name": "Python 3 (ipykernel)",
   "language": "python",
   "name": "python3"
  },
  "language_info": {
   "codemirror_mode": {
    "name": "ipython",
    "version": 3
   },
   "file_extension": ".py",
   "mimetype": "text/x-python",
   "name": "python",
   "nbconvert_exporter": "python",
   "pygments_lexer": "ipython3",
   "version": "3.9.13"
  }
 },
 "nbformat": 4,
 "nbformat_minor": 5
}
