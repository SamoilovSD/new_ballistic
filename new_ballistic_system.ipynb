{
 "cells": [
  {
   "cell_type": "code",
   "execution_count": 1,
   "id": "13b41ac3",
   "metadata": {},
   "outputs": [],
   "source": [
    "import numpy as np\n",
    "import math\n",
    "import matplotlib.pyplot as plt\n",
    "import matplotlib\n",
    "import pandas as pd\n",
    "\n",
    "rc = {\"font.family\" : \"serif\", \n",
    "      \"mathtext.fontset\" : \"stix\"}\n",
    "plt.rcParams.update(rc)\n",
    "plt.rcParams[\"font.serif\"] = [\"Times New Roman\"] + plt.rcParams[\"font.serif\"]\n",
    "matplotlib.rcParams.update({'font.size': 14})"
   ]
  },
  {
   "cell_type": "code",
   "execution_count": 2,
   "id": "d83a5fb6",
   "metadata": {},
   "outputs": [],
   "source": [
    "def foo_k(T, gas_name):\n",
    "    if gas_name == 'H2':\n",
    "        a0 = 0.3975\n",
    "        a1 = 0.4814/10**4\n",
    "        a2 = -1.073/10**7\n",
    "        a3 = 4.6863/10**11\n",
    "        a4 = -8.5361/10**15\n",
    "        a5 = 5.6934/10**19\n",
    "    elif gas_name == 'O2':\n",
    "        a0 = 0.4697\n",
    "        a1 = -2.9819/10**4\n",
    "        a2 = 2.0320/10**7\n",
    "        a3 = -7.1938/10**11\n",
    "        a4 = 12.311/10**15\n",
    "        a5 = -8.0736/10**19\n",
    "    elif gas_name == 'H2O':\n",
    "        a0 = 0.3834\n",
    "        a1 = -1.8579/10**4\n",
    "        a2 = 0.6266/10**7\n",
    "        a3 = -1.0528/10**11\n",
    "        a4 = 0.93554/10**15\n",
    "        a5 = -0.38512/10**19\n",
    "    else:\n",
    "        print('Houston we have a problem')\n",
    "    return 1 + a0 + a1*T + a2*T**2 + a3*T**3 + a4*T**4 + a5*T**5"
   ]
  },
  {
   "cell_type": "code",
   "execution_count": 10,
   "id": "1f89f541",
   "metadata": {},
   "outputs": [],
   "source": [
    "def foo_alpha(r):\n",
    "    return (1-(1-math.e**(-r))/r)/(1-math.e**(-r))"
   ]
  },
  {
   "cell_type": "code",
   "execution_count": 14,
   "id": "7bd07025",
   "metadata": {},
   "outputs": [
    {
     "data": {
      "text/plain": [
       "0.999"
      ]
     },
     "execution_count": 14,
     "metadata": {},
     "output_type": "execute_result"
    }
   ],
   "source": [
    "foo_alpha(1000)"
   ]
  },
  {
   "cell_type": "code",
   "execution_count": 15,
   "id": "453a1333",
   "metadata": {},
   "outputs": [
    {
     "ename": "ZeroDivisionError",
     "evalue": "float division by zero",
     "output_type": "error",
     "traceback": [
      "\u001b[1;31m---------------------------------------------------------------------------\u001b[0m",
      "\u001b[1;31mZeroDivisionError\u001b[0m                         Traceback (most recent call last)",
      "\u001b[1;32m~\\AppData\\Local\\Temp\\ipykernel_6928\\1862199108.py\u001b[0m in \u001b[0;36m<module>\u001b[1;34m\u001b[0m\n\u001b[1;32m----> 1\u001b[1;33m \u001b[0mfoo_alpha\u001b[0m\u001b[1;33m(\u001b[0m\u001b[1;36m0\u001b[0m\u001b[1;33m)\u001b[0m\u001b[1;33m\u001b[0m\u001b[1;33m\u001b[0m\u001b[0m\n\u001b[0m",
      "\u001b[1;32m~\\AppData\\Local\\Temp\\ipykernel_6928\\2477274828.py\u001b[0m in \u001b[0;36mfoo_alpha\u001b[1;34m(r)\u001b[0m\n\u001b[0;32m      1\u001b[0m \u001b[1;32mdef\u001b[0m \u001b[0mfoo_alpha\u001b[0m\u001b[1;33m(\u001b[0m\u001b[0mr\u001b[0m\u001b[1;33m)\u001b[0m\u001b[1;33m:\u001b[0m\u001b[1;33m\u001b[0m\u001b[1;33m\u001b[0m\u001b[0m\n\u001b[1;32m----> 2\u001b[1;33m     \u001b[1;32mreturn\u001b[0m \u001b[1;33m(\u001b[0m\u001b[1;36m1\u001b[0m\u001b[1;33m-\u001b[0m\u001b[1;33m(\u001b[0m\u001b[1;36m1\u001b[0m\u001b[1;33m-\u001b[0m\u001b[0mmath\u001b[0m\u001b[1;33m.\u001b[0m\u001b[0me\u001b[0m\u001b[1;33m**\u001b[0m\u001b[1;33m(\u001b[0m\u001b[1;33m-\u001b[0m\u001b[0mr\u001b[0m\u001b[1;33m)\u001b[0m\u001b[1;33m)\u001b[0m\u001b[1;33m/\u001b[0m\u001b[0mr\u001b[0m\u001b[1;33m)\u001b[0m\u001b[1;33m/\u001b[0m\u001b[1;33m(\u001b[0m\u001b[1;36m1\u001b[0m\u001b[1;33m-\u001b[0m\u001b[0mmath\u001b[0m\u001b[1;33m.\u001b[0m\u001b[0me\u001b[0m\u001b[1;33m**\u001b[0m\u001b[1;33m(\u001b[0m\u001b[1;33m-\u001b[0m\u001b[0mr\u001b[0m\u001b[1;33m)\u001b[0m\u001b[1;33m)\u001b[0m\u001b[1;33m\u001b[0m\u001b[1;33m\u001b[0m\u001b[0m\n\u001b[0m",
      "\u001b[1;31mZeroDivisionError\u001b[0m: float division by zero"
     ]
    }
   ],
   "source": [
    "foo_alpha(0)"
   ]
  },
  {
   "cell_type": "code",
   "execution_count": 13,
   "id": "2b6f900d",
   "metadata": {},
   "outputs": [
    {
     "ename": "OverflowError",
     "evalue": "(34, 'Result too large')",
     "output_type": "error",
     "traceback": [
      "\u001b[1;31m---------------------------------------------------------------------------\u001b[0m",
      "\u001b[1;31mOverflowError\u001b[0m                             Traceback (most recent call last)",
      "\u001b[1;32m~\\AppData\\Local\\Temp\\ipykernel_6928\\182976434.py\u001b[0m in \u001b[0;36m<module>\u001b[1;34m\u001b[0m\n\u001b[1;32m----> 1\u001b[1;33m \u001b[0mfoo_alpha\u001b[0m\u001b[1;33m(\u001b[0m\u001b[1;33m-\u001b[0m\u001b[1;36m1000\u001b[0m\u001b[1;33m)\u001b[0m\u001b[1;33m\u001b[0m\u001b[1;33m\u001b[0m\u001b[0m\n\u001b[0m",
      "\u001b[1;32m~\\AppData\\Local\\Temp\\ipykernel_6928\\2477274828.py\u001b[0m in \u001b[0;36mfoo_alpha\u001b[1;34m(r)\u001b[0m\n\u001b[0;32m      1\u001b[0m \u001b[1;32mdef\u001b[0m \u001b[0mfoo_alpha\u001b[0m\u001b[1;33m(\u001b[0m\u001b[0mr\u001b[0m\u001b[1;33m)\u001b[0m\u001b[1;33m:\u001b[0m\u001b[1;33m\u001b[0m\u001b[1;33m\u001b[0m\u001b[0m\n\u001b[1;32m----> 2\u001b[1;33m     \u001b[1;32mreturn\u001b[0m \u001b[1;33m(\u001b[0m\u001b[1;36m1\u001b[0m\u001b[1;33m-\u001b[0m\u001b[1;33m(\u001b[0m\u001b[1;36m1\u001b[0m\u001b[1;33m-\u001b[0m\u001b[0mmath\u001b[0m\u001b[1;33m.\u001b[0m\u001b[0me\u001b[0m\u001b[1;33m**\u001b[0m\u001b[1;33m(\u001b[0m\u001b[1;33m-\u001b[0m\u001b[0mr\u001b[0m\u001b[1;33m)\u001b[0m\u001b[1;33m)\u001b[0m\u001b[1;33m/\u001b[0m\u001b[0mr\u001b[0m\u001b[1;33m)\u001b[0m\u001b[1;33m/\u001b[0m\u001b[1;33m(\u001b[0m\u001b[1;36m1\u001b[0m\u001b[1;33m-\u001b[0m\u001b[0mmath\u001b[0m\u001b[1;33m.\u001b[0m\u001b[0me\u001b[0m\u001b[1;33m**\u001b[0m\u001b[1;33m(\u001b[0m\u001b[1;33m-\u001b[0m\u001b[0mr\u001b[0m\u001b[1;33m)\u001b[0m\u001b[1;33m)\u001b[0m\u001b[1;33m\u001b[0m\u001b[1;33m\u001b[0m\u001b[0m\n\u001b[0m",
      "\u001b[1;31mOverflowError\u001b[0m: (34, 'Result too large')"
     ]
    }
   ],
   "source": [
    "foo_alpha(-1000)"
   ]
  },
  {
   "cell_type": "code",
   "execution_count": 4,
   "id": "105715f2",
   "metadata": {},
   "outputs": [],
   "source": [
    "# параметры установки\n",
    "d = 45*10**(-3) # калибр\n",
    "S = math.pi*d**2/4 # площадь\n",
    "W_0 = 0.005 # объем каморы\n",
    "l_d = 4.5 # длина ствола\n",
    "m_elem = 0.52 # масса МЭ\n",
    "p_0 = 34.5 * 10**6 # начальное давление\n",
    "\n",
    "Q_t = 241.8 * 10**3 # энергия образования 1 кг продуктов реакций ???\n",
    "E_ign = 60*10**3 # энергия активации\n",
    "\n",
    "v_p0 = 0 # начальная скорость\n",
    "x_p0 = 0 # начальная координата\n",
    "p_a = 10**5 # атмосфэрное давление"
   ]
  },
  {
   "cell_type": "code",
   "execution_count": 5,
   "id": "c97e1cfa",
   "metadata": {},
   "outputs": [],
   "source": [
    "# термодинамика\n",
    "mu_H2 = 2*10**(-3) # молярная масса водорода\n",
    "mu_O2 = 32*10**(-3) # молярная масса кислорода\n",
    "mu_H2O = 18*10**(-3) # молярная масса воды\n",
    "\n",
    "p_0 = 34.5 * 10**6 # начальное давления\n",
    "T_0 = 300 # начальная температура\n",
    "R = 8.31446262 # универсальная газовая постоянная\n",
    "rho_0 = p_0/(R*T_0) # начальная плотность газа\n",
    "m_g_0 = rho_0*W_0 # начальная масса газа\n",
    "\n",
    "hi_O2_and_H2_0 = 8 # начальное соотношение мольных долей\n",
    "ratio_m_O2_and_m_H2_0 = hi_O2_and_H2_0*mu_O2/mu_H2 # начальное соотнеошение масс газа через мольные доли, скрин \"мольные доли.png\"\n",
    "\n",
    "m_H2_0 = m_g_0 / (ratio_m_O2_and_m_H2_0+1) # начальная масса водорода\n",
    "m_O2_0 = m_H2_0 * ratio_m_O2_and_m_H2_0 # начальная масса кислорода\n",
    "\n",
    "n_H2_0 = m_H2_0/mu_H2 # начальное количества вещества водорода\n",
    "n_O2_0 =  m_O2_0/mu_O2 # начальное количества вещества кислорода\n",
    "\n",
    "С_H2_0 = n_H2_0/W_0 # начальная молярная концентрация водорода\n",
    "С_O2_0 = n_O2_0/W_0 # начальная молярная концентрация кислорода\n",
    "\n",
    "C_H2O_0 = 0 # нет продуктов реакции в начальный момент времени"
   ]
  },
  {
   "cell_type": "code",
   "execution_count": 9,
   "id": "a4576377",
   "metadata": {},
   "outputs": [
    {
     "name": "stdout",
     "output_type": "stream",
     "text": [
      "[ 53609.77064667 428878.16517338      0.        ]\n",
      "[ 5.73546712e+03 -4.26898766e+05  1.75203938e+07]\n",
      "[ 5.73546712e+03 -4.26898766e+05  1.75203938e+07]\n",
      "[8115.51240126           nan           nan]\n",
      "[8115.51240126           nan           nan]\n",
      "[nan nan nan]\n"
     ]
    },
    {
     "name": "stderr",
     "output_type": "stream",
     "text": [
      "C:\\Users\\Stepan\\AppData\\Local\\Temp\\ipykernel_6928\\3645793755.py:59: RuntimeWarning: invalid value encountered in double_scalars\n",
      "  P_n = np.array([0, 0, foo_k(T,'H2O')*C_n[0]*C_n[1]**(1/2)]) # вектор P\n",
      "C:\\Users\\Stepan\\AppData\\Local\\Temp\\ipykernel_6928\\3645793755.py:60: RuntimeWarning: invalid value encountered in double_scalars\n",
      "  D_n = np.array([foo_k(T,'H2')*C_n[1]/2, 1/2*foo_k(T, 'O2')*C_n[0]*C_n[1]**(1/2),0]) # вектор D\n"
     ]
    }
   ],
   "source": [
    "tau = 0 # время от начала процесса\n",
    "C_n_1 = np.array([С_H2_0, С_O2_0, C_H2O_0]) # начальный вектор C\n",
    "P_n = np.array([0, 0, foo_k(T_0,'H2O')*C_n_1[0]*C_n_1[1]**(1/2)]) # начальный вектор Р\n",
    "D_n = np.array([foo_k(T_0,'H2')*C_n_1[1]/2, 1/2*foo_k(T_0, 'O2')*C_n_1[0]*C_n_1[1]**(1/2),0]) # начальный вектор D\n",
    "W_n = W_0 # начальный объем\n",
    "v_p = v_p0 # начальная скорость\n",
    "\n",
    "tau_arr = []\n",
    "C_H2_arr = []\n",
    "C_O2_arr = []\n",
    "C_H2O_arr = []\n",
    "v_p_arr = []\n",
    "p_m_arr = []\n",
    "x_p_arr = []\n",
    "M_p_arr = []\n",
    "rho_arr = []\n",
    "T_arr = []\n",
    "\n",
    "tau_arr = np.array(tau_arr)\n",
    "C_H2_arr = np.array(C_H2_arr)\n",
    "C_O2_arr = np.array(C_O2_arr)\n",
    "C_H2O_arr = np.array(C_H2O_arr)\n",
    "v_p_arr = np.array(v_p_arr)\n",
    "p_m_arr = np.array(p_m_arr)\n",
    "x_p_arr = np.array(x_p_arr)\n",
    "M_p_arr = np.array(M_p_arr)\n",
    "rho_arr = np.array(rho_arr)\n",
    "T_arr = np.array(T_arr)\n",
    "\n",
    "dt=1e-5\n",
    "x_p = x_p0\n",
    "T = T_0\n",
    "\n",
    "k=0\n",
    "\n",
    "while x_p <= l_d: # условие цикла, пока МЭ не покинул дульный срез\n",
    "    k+=1\n",
    "    tau += dt # время от начала процесса\n",
    "    tau_arr = np.append(tau_arr, tau)\n",
    "    \n",
    "    C_n = C_n_1 # вектор С\n",
    "    C_H2_arr = np.append(C_H2_arr, C_n[0])\n",
    "    C_O2_arr = np.append(C_O2_arr, C_n[1])\n",
    "    C_H2O_arr = np.append(C_H2O_arr, C_n[2])\n",
    "    \n",
    "    n_H2 = C_n[0] * W_n # количество вещества водорода\n",
    "    n_O2 = C_n[1] * W_n # количество вещества кислорода\n",
    "    n_H2O = C_n[2] * W_n # количество вещества воды\n",
    "    \n",
    "    m_H2 = n_H2 * mu_H2 # масса водорода\n",
    "    m_O2 = n_O2 * mu_O2 # масса кислорода\n",
    "    m_H2O = n_H2O * mu_H2O # масса воды\n",
    "    m_g = m_H2 + m_O2 + m_H2O # масса смеси\n",
    "    \n",
    "    rho = m_g/W_n #плотность смеси\n",
    "    rho_arr = np.append(rho_arr,rho)\n",
    "    \n",
    "    print(C_n)\n",
    "    P_n = np.array([0, 0, foo_k(T,'H2O')*C_n[0]*C_n[1]**(1/2)]) # вектор P\n",
    "    D_n = np.array([foo_k(T,'H2')*C_n[1]/2, 1/2*foo_k(T, 'O2')*C_n[0]*C_n[1]**(1/2),0]) # вектор D\n",
    "    \n",
    "\n",
    "    M_p = mu_H2O * C_n[2] * W_n # масса продуктов реакции\n",
    "    M_p_arr = np.append(M_p_arr, M_p)\n",
    "\n",
    "    phi = (1+3*m_g/m_elem) # фиктивность, масса всех продуктов?\n",
    "    \n",
    "    p_m = (foo_k(T,'H2O')-1)/W_n * ((p_0*W_0)/(foo_k(T, 'H2O')-1) + Q_t*M_p - E_ign - phi/2*m_elem*v_p**2) # среднебаллистическое давление\n",
    "    p_m_arr = np.append(p_m_arr, p_m)\n",
    "    \n",
    "    T = p_m/(R*rho)\n",
    "    T_arr = np.append(T_arr,T)\n",
    "    \n",
    "    dv_p = (p_m - p_a)*S/(phi*m_elem) * dt # диф. скорости МЭ\n",
    "    \n",
    "    v_p += dv_p # скорость МЭ\n",
    "    v_p_arr = np.append(v_p_arr, v_p)\n",
    "    \n",
    "    dx_p = dv_p * dt # диф. координаты МЭ\n",
    "    \n",
    "    x_p += dx_p  # координата МЭ\n",
    "    x_p_arr = np.append(x_p_arr, x_p)\n",
    "    \n",
    "    W_n_1 = W_0 + x_p*S  # Заснарядный объем на n+1 шаге\n",
    "    \n",
    "    W_n = W_0 + (x_p-dx_p)*S # Заснарядный объем на n шаге\n",
    "           \n",
    "    foo_alpha_res = np.array([]) # значение умножения алфа функции от произведения вектора D на tau, \n",
    "    for i in range(len(D_n)):\n",
    "        foo_alpha_res = np.append(foo_alpha_res, foo_alpha(D_n[i]*tau))\n",
    "        \n",
    "    C_n_kr = W_n/W_n_1 * (C_n + (tau *(P_n-C_n*D_n))/(1+foo_alpha_res*D_n*tau)) # Предиктор вектора С\n",
    "\n",
    "    D_n_kr = (D_n*C_n_kr + D_n*C_n)/2 # Предиктор вектора D\n",
    "    \n",
    "    P_n_kr = foo_alpha_res*P_n*C_n_kr + (1-foo_alpha_res)*P_n*C_n # Предиктор вектора P\n",
    "\n",
    "    C_n_1 = W_n/W_n_1 * (C_n + (tau *(P_n_kr-C_n*D_n_kr))/(1+foo_alpha_res*D_n_kr*tau)) # Корректор вектора С"
   ]
  },
  {
   "cell_type": "code",
   "execution_count": null,
   "id": "fad358f0",
   "metadata": {},
   "outputs": [],
   "source": []
  }
 ],
 "metadata": {
  "kernelspec": {
   "display_name": "Python 3 (ipykernel)",
   "language": "python",
   "name": "python3"
  },
  "language_info": {
   "codemirror_mode": {
    "name": "ipython",
    "version": 3
   },
   "file_extension": ".py",
   "mimetype": "text/x-python",
   "name": "python",
   "nbconvert_exporter": "python",
   "pygments_lexer": "ipython3",
   "version": "3.9.13"
  }
 },
 "nbformat": 4,
 "nbformat_minor": 5
}
