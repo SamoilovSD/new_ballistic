{
 "cells": [
  {
   "cell_type": "code",
   "execution_count": 1,
   "id": "13b41ac3",
   "metadata": {},
   "outputs": [],
   "source": [
    "import numpy as np\n",
    "import math\n",
    "import matplotlib.pyplot as plt\n",
    "import matplotlib\n",
    "import pandas as pd\n",
    "from scipy.integrate import ode\n",
    "from scipy.optimize import fsolve\n",
    "\n",
    "rc = {\"font.family\" : \"serif\", \n",
    "      \"mathtext.fontset\" : \"stix\"}\n",
    "plt.rcParams.update(rc)\n",
    "plt.rcParams[\"font.serif\"] = [\"Times New Roman\"] + plt.rcParams[\"font.serif\"]\n",
    "matplotlib.rcParams.update({'font.size': 14})"
   ]
  },
  {
   "cell_type": "code",
   "execution_count": null,
   "id": "8e8a59a3",
   "metadata": {},
   "outputs": [],
   "source": [
    "def foo_k(T, a0, a1, a2, a3, a4, a5):\n",
    "    return 1 + a0 + a1*T + a2*T**2 + a3*T**3 + a4*T**4 + a5*T**5"
   ]
  },
  {
   "cell_type": "code",
   "execution_count": null,
   "id": "41a6c724",
   "metadata": {},
   "outputs": [],
   "source": [
    "def foo_alpha(r):\n",
    "    return (1-(1-e**(-r))/r)/(1-e**(-r))"
   ]
  },
  {
   "cell_type": "code",
   "execution_count": null,
   "id": "a4576377",
   "metadata": {},
   "outputs": [],
   "source": [
    "tau = 0\n",
    "while x_p <= l_d:\n",
    "    tau += dt\n",
    "    \n",
    "    if tau == dt:\n",
    "        С_n = [C_H2_0, C_O2_0, C_H2O_0]\n",
    "        P_n = [0, 0, foo_k(T, a0, a1, a2, a3, a4, a5)*С_n[0]*С_n[1]**(1/2)]\n",
    "        D_n = [foo_k(T, a0, a1, a2, a3, a4, a5)*С_n[1]/2, 1/2*foo_k(T, a0, a1, a2, a3, a4, a5)*С_n[0]*С_n[1]**(1/2)]\n",
    "    else:\n",
    "        С_n = C_n_1\n",
    "        P_n = [0, 0, foo_k(T, a0, a1, a2, a3, a4, a5)*С_n[0]*С_n[1]**(1/2)]\n",
    "        D_n = [foo_k(T, a0, a1, a2, a3, a4, a5)*С_n[1]/2, 1/2*foo_k(T, a0, a1, a2, a3, a4, a5)*С_n[0]*С_n[1]**(1/2)]\n",
    "\n",
    "    M_p = M_H2O * C_n * W_n\n",
    "    \n",
    "    phi = (1+3*M_p/m_elem)\n",
    "    \n",
    "    p_m = (k-1)/W_n * ((p_0*W_0)/(foo_k(T, a0, a1, a2, a3, a4, a5)-1) + Q_t*M_p - E_ign - phi/2*m_elem*v_p**2)\n",
    "    \n",
    "    dv_p = (p_m - p_a)*S/(phi*m_elem) * dt\n",
    "    \n",
    "    v_p += dv_p\n",
    "    \n",
    "    dx_p += dv_p * dt\n",
    "    \n",
    "    x_p += dx_p  \n",
    "    \n",
    "    W_n_1 = W_0 + x_p*S\n",
    "    \n",
    "    W_n = W_0 + (x_p-dx_p)*S\n",
    "                \n",
    "    C_n_kr = W_n/W_n_1 * (C_n + (tau *(P_n-C_n*D_n))/(1+foo_alpha(D_n*tau)*D_n*tau))\n",
    "\n",
    "    D_n_kr = (D_n*C_n_kr + D_n*C_n)/2\n",
    "\n",
    "    P_n_kr = foo_alpha(D_n_kr*tau)*P_n*C_n_kr + (1-foo_alpha(D_n_kr*tau))*P_n*C_n\n",
    "\n",
    "    C_n_1 = W/W_n_1 * (C_n + (tau *(P_n_kr-C_n*D_n_kr))/(1+foo_alpha(D_n_kr*tau)*D_n_kr*tau))"
   ]
  },
  {
   "cell_type": "code",
   "execution_count": null,
   "id": "a5547cb4",
   "metadata": {},
   "outputs": [],
   "source": []
  },
  {
   "cell_type": "code",
   "execution_count": null,
   "id": "a80ceec7",
   "metadata": {},
   "outputs": [],
   "source": []
  }
 ],
 "metadata": {
  "kernelspec": {
   "display_name": "Python 3 (ipykernel)",
   "language": "python",
   "name": "python3"
  },
  "language_info": {
   "codemirror_mode": {
    "name": "ipython",
    "version": 3
   },
   "file_extension": ".py",
   "mimetype": "text/x-python",
   "name": "python",
   "nbconvert_exporter": "python",
   "pygments_lexer": "ipython3",
   "version": "3.9.13"
  }
 },
 "nbformat": 4,
 "nbformat_minor": 5
}
