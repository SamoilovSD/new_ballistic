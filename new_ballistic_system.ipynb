{
 "cells": [
  {
   "cell_type": "code",
   "execution_count": 8,
   "id": "13b41ac3",
   "metadata": {},
   "outputs": [],
   "source": [
    "import numpy as np\n",
    "import math\n",
    "import matplotlib.pyplot as plt\n",
    "import matplotlib\n",
    "import pandas as pd\n",
    "\n",
    "rc = {\"font.family\" : \"serif\", \n",
    "      \"mathtext.fontset\" : \"stix\"}\n",
    "plt.rcParams.update(rc)\n",
    "plt.rcParams[\"font.serif\"] = [\"Times New Roman\"] + plt.rcParams[\"font.serif\"]\n",
    "matplotlib.rcParams.update({'font.size': 12})"
   ]
  },
  {
   "cell_type": "code",
   "execution_count": 9,
   "id": "cd636f58",
   "metadata": {},
   "outputs": [],
   "source": [
    "def foo_k_r(T):\n",
    "    return k_r0 * math.e**(-E_a/(R_u*T))"
   ]
  },
  {
   "cell_type": "code",
   "execution_count": 10,
   "id": "d83a5fb6",
   "metadata": {},
   "outputs": [],
   "source": [
    "def foo_k(T, gas_name):\n",
    "    if gas_name == 'H2':\n",
    "        a0 = 0.3975\n",
    "        a1 = 0.4814/10**4\n",
    "        a2 = -1.073/10**7\n",
    "        a3 = 4.6863/10**11\n",
    "        a4 = -8.5361/10**15\n",
    "        a5 = 5.6934/10**19\n",
    "    elif gas_name == 'O2':\n",
    "        a0 = 0.4697\n",
    "        a1 = -2.9819/10**4\n",
    "        a2 = 2.0320/10**7\n",
    "        a3 = -7.1938/10**11\n",
    "        a4 = 12.311/10**15\n",
    "        a5 = -8.0736/10**19\n",
    "    elif gas_name == 'H2O':\n",
    "        a0 = 0.3834\n",
    "        a1 = -1.8579/10**4\n",
    "        a2 = 0.6266/10**7\n",
    "        a3 = -1.0528/10**11\n",
    "        a4 = 0.93554/10**15\n",
    "        a5 = -0.38512/10**19\n",
    "    else:\n",
    "        print('Houston we have a problem')\n",
    "    return 1 + a0 + a1*T + a2*T**2 + a3*T**3 + a4*T**4 + a5*T**5"
   ]
  },
  {
   "cell_type": "code",
   "execution_count": 48,
   "id": "1f89f541",
   "metadata": {},
   "outputs": [],
   "source": [
    "def foo_alpha(r):\n",
    "    if abs(r) >= 0.0000001:\n",
    "        a = 1 - math.e**(-r)\n",
    "        return (1-a/r)/a\n",
    "    else:\n",
    "        return 0.5"
   ]
  },
  {
   "cell_type": "code",
   "execution_count": 93,
   "id": "d3c4016d",
   "metadata": {},
   "outputs": [],
   "source": [
    "# параметры установки\n",
    "d = 45*10**(-3) # калибр\n",
    "S = math.pi*d**2/4 # площадь\n",
    "W_0 = 0.005 # объем каморы\n",
    "l_d = 4.5 # длина ствола\n",
    "m_elem = 0.52 # масса МЭ\n",
    "p_f = 172 * 10**6 # давление форсирования"
   ]
  },
  {
   "cell_type": "code",
   "execution_count": 95,
   "id": "105715f2",
   "metadata": {},
   "outputs": [],
   "source": [
    "k_r0 = 9.87 * 10**8 # предэскп. множитель \n",
    "Q_t = 13.4 * 10**6 # энергия образования 1 кг продуктов реакций \n",
    "# E_ign = 0.5*10**6 # энергия воспламенителя\n",
    "E_ign = 0*10**6 # энергия воспламенителя\n",
    "E_a = 60*10**3 # энергия активации"
   ]
  },
  {
   "cell_type": "code",
   "execution_count": 96,
   "id": "2ceab851",
   "metadata": {},
   "outputs": [],
   "source": [
    "v_p0 = 0 # начальная скорость\n",
    "x_p0 = 0 # начальная координата\n",
    "p_a = 10**5 # атмосфэрное давление"
   ]
  },
  {
   "cell_type": "code",
   "execution_count": 97,
   "id": "26784012",
   "metadata": {},
   "outputs": [],
   "source": [
    "p_0 = 34.5 * 10**6 # начальное давление\n",
    "T_0 = 300 # начальная температура\n",
    "R_u = 8.31446262 # универсальная газовая постоянная\n",
    "hi_O2_and_H2_0 = 1/8 # начальное соотношение мольных долей"
   ]
  },
  {
   "cell_type": "code",
   "execution_count": 98,
   "id": "c22a0267",
   "metadata": {},
   "outputs": [],
   "source": [
    "mu_H2 = 2*10**(-3) # молярная масса водорода\n",
    "mu_O2 = 16*10**(-3) # молярная масса кислорода\n",
    "mu_H2O = 18*10**(-3) # молярная масса воды"
   ]
  },
  {
   "cell_type": "code",
   "execution_count": 99,
   "id": "4fc2a7db",
   "metadata": {},
   "outputs": [],
   "source": [
    "def C_initial(p_0, W_0, T_0, hi_second_to_first):\n",
    "    n_smesi = p_0 * W_0/(R_u * T_0)\n",
    "    n_first_0 = n_smesi/(hi_second_to_first+1)\n",
    "    n_second_0 =  n_first_0 * hi_second_to_first  \n",
    "    n_result_0 = 0\n",
    "    return np.array([n_first_0/W_0,\n",
    "                    n_second_0/W_0,\n",
    "                    0])"
   ]
  },
  {
   "cell_type": "code",
   "execution_count": 130,
   "id": "5c115e5f",
   "metadata": {},
   "outputs": [],
   "source": [
    "def termodynamic_system(p_0, W_0, T_0, hi_second_to_first):\n",
    "    tau = 0 # время от начала процесса\n",
    "    \n",
    "    C_n_1 = C_initial(p_0, W_0, T_0, hi_second_to_first) # начальный вектор C\n",
    "\n",
    "    C_n = C_n_1\n",
    "\n",
    "    P_n = np.array([0,\n",
    "                    0,\n",
    "                    foo_k_r(T_0)*C_n_1[0]*C_n_1[1]**(1/2)]) # начальный вектор Р\n",
    "\n",
    "    D_n = np.array([foo_k_r(T_0)*C_n_1[1]**(1/2), \n",
    "                    1/2*foo_k_r(T_0)*C_n_1[0]*C_n_1[1]**(-1/2),\n",
    "                    0]) # начальный вектор D\n",
    "    W_n_1 = W_0 # начальный объем\n",
    "    v_p = v_p0 # начальная скорость\n",
    "    x_p = x_p0 # начальная координата\n",
    "    T = T_0 # начальная температура\n",
    "    p_m = p_0 # начальное давление\n",
    "\n",
    "    tau_arr = np.array([])\n",
    "#     C_H2_arr = np.array([])\n",
    "#     C_O2_arr = np.array([])\n",
    "#     C_H2O_arr = np.array([])\n",
    "#     m_H2_arr = np.array([])\n",
    "#     m_O2_arr = np.array([])\n",
    "#     m_H2O_arr = np.array([])\n",
    "    v_p_arr = np.array([])\n",
    "    p_m_arr = np.array([])\n",
    "    x_p_arr = np.array([])\n",
    "    T_arr = np.array([])\n",
    "\n",
    "    dt = 1e-10\n",
    "\n",
    "    schetchik = 0\n",
    "    falg_fors = 0\n",
    "    flag_dt = 0\n",
    "\n",
    "    while x_p <= l_d: # условие цикла, пока МЭ не покинул дульный срез\n",
    "        \n",
    "        schetchik+=1\n",
    "        \n",
    "        if tau<=300_000*dt and flag_dt == 0:\n",
    "            dt = 1e-9\n",
    "        elif ((p_m_arr[-1] - p_m_arr[-2])/p_m_arr[-2] * 100) >= 2 and flag_dt == 0:\n",
    "            dt = 1e-10\n",
    "            flag_dt = 1\n",
    "        elif ((p_m_arr[-1] - p_m_arr[-2])/p_m_arr[-2] * 100) >= 6 and flag_dt == 1:\n",
    "            dt = 1e-12\n",
    "            flag_dt = 2\n",
    "        elif ((p_m_arr[-1] - p_m_arr[-2])/p_m_arr[-2] * 100) >= 10 and flag_dt == 2:\n",
    "            dt = 1e-14\n",
    "            flag_dt = 3\n",
    "        elif ((p_m_arr[-1] - p_m_arr[-2])/p_m_arr[-2] * 100) <= 0 and flag_dt == 3:\n",
    "            dt = 1e-9\n",
    "            flag_dt = 4\n",
    "        elif flag_dt == 4:\n",
    "            dt = 5e-9\n",
    "\n",
    "        tau += dt # время от начала процесса\n",
    "\n",
    "        C_n = C_n_1 # вектор С\n",
    "\n",
    "        W_n = W_n_1\n",
    "\n",
    "        M_p = mu_H2O * C_n[2] * W_n\n",
    "\n",
    "        n_H2 = C_n[0] * W_n # количество вещества водорода\n",
    "        n_O2 = C_n[1] * W_n # количество вещества кислорода\n",
    "        n_H2O = C_n[2] * W_n  # количество вещества воды\n",
    "\n",
    "        m_H2 = n_H2 * mu_H2 # масса водорода\n",
    "        m_O2 = n_O2 * mu_O2 # масса кислорода\n",
    "        m_H2O = n_H2O * mu_H2O # масса воды\n",
    "\n",
    "        n_smesi = n_H2 + n_O2 + n_H2O # количество вещества смеси\n",
    "\n",
    "        phi = (1+(m_H2 + m_O2 + m_H2O)/(3*m_elem)) # фиктивность, масса всего\n",
    "\n",
    "        # расчет показателя адиабаты смеси \n",
    "        help_value = (n_H2/(foo_k(T,'H2')-1) + n_O2/(foo_k(T,'O2')-1) + n_H2O/(foo_k(T,'H2O')-1))**(-1)\n",
    "        k_smesi = 1 + n_H2*help_value + n_O2*help_value + n_H2O*help_value # показатель адиабаты смеси для формулы 4.5\n",
    "        \n",
    "        p_m = (k_smesi-1)/W_n * ((p_0*W_0)/(k_smesi_T_0-1) + Q_t*M_p - E_ign - phi/2*m_elem*v_p**2) # среднебаллистическое давление\n",
    "\n",
    "        T = p_m*W_n/(R_u*n_smesi)\n",
    "\n",
    "        if p_m <= p_f and falg_fors == 0:\n",
    "            dv_p = 0\n",
    "        elif p_m <= p_f and falg_fors == 1:\n",
    "            dv_p = (p_m - p_a)*S/(phi*m_elem) * dt\n",
    "        elif  p_m > p_f:\n",
    "            falg_fors = 1\n",
    "            dv_p = (p_m - p_a)*S/(phi*m_elem) * dt # диф. скорости МЭ\n",
    "\n",
    "        v_p += dv_p # скорость МЭ\n",
    "\n",
    "        dx_p = v_p * dt # диф. координаты МЭ\n",
    "\n",
    "        x_p += dx_p  # координата МЭ\n",
    "\n",
    "        W_n_1 = W_0 + x_p*S  # Заснарядный объем на n+1 шаге\n",
    "\n",
    "        W_n = W_0 + (x_p-dx_p)*S # Заснарядный объем на n шаге\n",
    "\n",
    "        # вектор P и D\n",
    "        P_n = np.array([0, \n",
    "                        0, \n",
    "                        foo_k_r(T)*C_n[0]*C_n[1]**(1/2)])\n",
    "\n",
    "        D_n = np.array([foo_k_r(T)*C_n[1]**(1/2), \n",
    "                        1/2*foo_k_r(T)*C_n[0]*C_n[1]**(-1/2),\n",
    "                        0])\n",
    "\n",
    "\n",
    "        foo_alpha_res = np.array([0,0,0]) # значение умножения алфа функции от произведения вектора D на dt, \n",
    "        for i in range(len(D_n)):\n",
    "            foo_alpha_res[i] = foo_alpha(D_n[i]*dt)\n",
    "\n",
    "        C_n_kr = W_n/W_n_1 * (C_n + (dt *(P_n-C_n*D_n))/(1+foo_alpha_res*D_n*dt)) # Предиктор вектора С\n",
    "\n",
    "        if C_n_kr[1] >= 0 and C_n_kr[1] >= 0:\n",
    "            D_n_kr = (np.array([foo_k_r(T)*C_n_kr[1]**(1/2), \n",
    "                                1/2*foo_k_r(T)*C_n_kr[0]*C_n_kr[1]**(-1/2),\n",
    "                                0]) + D_n)/2 # Предиктор вектора D\n",
    "        else:\n",
    "            D_n_kr = np.array([0,0,0])\n",
    "\n",
    "        foo_alpha_res = np.array([0,0,0]) # значение умножения алфа функции от произведения вектора D на dt, \n",
    "        for i in range(len(D_n_kr)):\n",
    "            foo_alpha_res[i] = foo_alpha(D_n_kr[i]*dt)\n",
    "\n",
    "\n",
    "        if C_n_kr[0] >= 0 and C_n_kr[1] >= 0:\n",
    "            P_n_kr = foo_alpha_res*np.array([0, \n",
    "                                             0, \n",
    "                                             foo_k_r(T)*C_n_kr[0]*C_n_kr[1]**(1/2)]) + (1-foo_alpha_res)*P_n # Предиктор вектора P    \n",
    "        else:\n",
    "            P_n_kr = np.array([0,0,0])\n",
    "\n",
    "        C_n_1 = W_n/W_n_1 * (C_n + (dt *(P_n_kr-C_n*D_n_kr))/(1+foo_alpha_res*D_n_kr*dt)) # Корректор вектора С\n",
    "\n",
    "        if schetchik % 10_000 == 0:\n",
    "            tau_arr = np.append(tau_arr, tau)\n",
    "            x_p_arr = np.append(x_p_arr, x_p)\n",
    "#             C_H2_arr = np.append(C_H2_arr, C_n[0])\n",
    "#             C_O2_arr = np.append(C_O2_arr, C_n[1])\n",
    "#             C_H2O_arr = np.append(C_H2O_arr, C_n[2])\n",
    "#             m_H2_arr = np.append(m_H2_arr, m_H2)\n",
    "#             m_O2_arr = np.append(m_O2_arr, m_O2)\n",
    "#             m_H2O_arr = np.append(m_H2O_arr, m_H2O)\n",
    "            v_p_arr = np.append(v_p_arr, v_p)\n",
    "            T_arr = np.append(T_arr, T)\n",
    "            p_m_arr = np.append(p_m_arr, p_m)\n",
    "\n",
    "    return {'tau':tau_arr, 'x_p':x_p_arr,\n",
    "           'v_p':v_p_arr, 'T':T_arr, 'p_m':p_m_arr}\n",
    "\n",
    "#     return {'tau_arr':tau_arr, 'x_p_arr':x_p_arr, \n",
    "#             'C_H2_arr':C_H2_arr, 'C_O2_arr':C_O2_arr, 'C_H2O_arr':C_H2O_arr,\n",
    "#            'm_H2_arr':m_H2_arr, 'm_O2_arr':m_O2_arr, 'm_H2O_arr':m_H2O_arr,\n",
    "#            'v_p_arr':v_p_arr, 'T_arr':T_arr, 'p_m_arr':p_m_arr}"
   ]
  },
  {
   "cell_type": "code",
   "execution_count": 132,
   "id": "acac597f",
   "metadata": {},
   "outputs": [],
   "source": [
    "res = termodynamic_system(p_0, W_0, T_0, hi_O2_and_H2_0)"
   ]
  },
  {
   "cell_type": "code",
   "execution_count": 133,
   "id": "310785c4",
   "metadata": {},
   "outputs": [],
   "source": [
    "df = pd.DataFrame.from_dict(res)"
   ]
  },
  {
   "cell_type": "code",
   "execution_count": 134,
   "id": "f42d6953",
   "metadata": {},
   "outputs": [
    {
     "data": {
      "text/html": [
       "<div>\n",
       "<style scoped>\n",
       "    .dataframe tbody tr th:only-of-type {\n",
       "        vertical-align: middle;\n",
       "    }\n",
       "\n",
       "    .dataframe tbody tr th {\n",
       "        vertical-align: top;\n",
       "    }\n",
       "\n",
       "    .dataframe thead th {\n",
       "        text-align: right;\n",
       "    }\n",
       "</style>\n",
       "<table border=\"1\" class=\"dataframe\">\n",
       "  <thead>\n",
       "    <tr style=\"text-align: right;\">\n",
       "      <th></th>\n",
       "      <th>tau</th>\n",
       "      <th>x_p</th>\n",
       "      <th>v_p</th>\n",
       "      <th>T</th>\n",
       "      <th>p_m</th>\n",
       "    </tr>\n",
       "  </thead>\n",
       "  <tbody>\n",
       "    <tr>\n",
       "      <th>0</th>\n",
       "      <td>0.00001</td>\n",
       "      <td>0.0</td>\n",
       "      <td>0.0</td>\n",
       "      <td>300.142760</td>\n",
       "      <td>3.451620e+07</td>\n",
       "    </tr>\n",
       "    <tr>\n",
       "      <th>1</th>\n",
       "      <td>0.00002</td>\n",
       "      <td>0.0</td>\n",
       "      <td>0.0</td>\n",
       "      <td>300.287176</td>\n",
       "      <td>3.453260e+07</td>\n",
       "    </tr>\n",
       "    <tr>\n",
       "      <th>2</th>\n",
       "      <td>0.00003</td>\n",
       "      <td>0.0</td>\n",
       "      <td>0.0</td>\n",
       "      <td>300.433271</td>\n",
       "      <td>3.454918e+07</td>\n",
       "    </tr>\n",
       "    <tr>\n",
       "      <th>3</th>\n",
       "      <td>0.00004</td>\n",
       "      <td>0.0</td>\n",
       "      <td>0.0</td>\n",
       "      <td>300.581082</td>\n",
       "      <td>3.456595e+07</td>\n",
       "    </tr>\n",
       "    <tr>\n",
       "      <th>4</th>\n",
       "      <td>0.00005</td>\n",
       "      <td>0.0</td>\n",
       "      <td>0.0</td>\n",
       "      <td>300.730648</td>\n",
       "      <td>3.458293e+07</td>\n",
       "    </tr>\n",
       "  </tbody>\n",
       "</table>\n",
       "</div>"
      ],
      "text/plain": [
       "       tau  x_p  v_p           T           p_m\n",
       "0  0.00001  0.0  0.0  300.142760  3.451620e+07\n",
       "1  0.00002  0.0  0.0  300.287176  3.453260e+07\n",
       "2  0.00003  0.0  0.0  300.433271  3.454918e+07\n",
       "3  0.00004  0.0  0.0  300.581082  3.456595e+07\n",
       "4  0.00005  0.0  0.0  300.730648  3.458293e+07"
      ]
     },
     "execution_count": 134,
     "metadata": {},
     "output_type": "execute_result"
    }
   ],
   "source": [
    "df.head()"
   ]
  },
  {
   "cell_type": "code",
   "execution_count": 135,
   "id": "1af6140d",
   "metadata": {},
   "outputs": [
    {
     "data": {
      "text/plain": [
       "(221.7132726283405, 1664.2513686207114)"
      ]
     },
     "execution_count": 135,
     "metadata": {},
     "output_type": "execute_result"
    }
   ],
   "source": [
    "df.p_m.max()/10**6, df.loc[df.shape[0]-1].v_p"
   ]
  },
  {
   "cell_type": "code",
   "execution_count": 136,
   "id": "e1926336",
   "metadata": {},
   "outputs": [
    {
     "data": {
      "image/png": "[encoded data removed]",
      "text/plain": [
       "<Figure size 500x300 with 1 Axes>"
      ]
     },
     "metadata": {},
     "output_type": "display_data"
    }
   ],
   "source": [
    "plt.figure(figsize=(5,3))\n",
    "plt.plot(df.tau, df.p_m/10**6)\n",
    "plt.xlabel('t, с')\n",
    "plt.ylabel('p_m, МПа')\n",
    "plt.grid()"
   ]
  },
  {
   "cell_type": "code",
   "execution_count": 137,
   "id": "a0d594bb",
   "metadata": {},
   "outputs": [
    {
     "data": {
      "image/png": "[encoded data removed]",
      "text/plain": [
       "<Figure size 500x300 with 1 Axes>"
      ]
     },
     "metadata": {},
     "output_type": "display_data"
    }
   ],
   "source": [
    "plt.figure(figsize=(5,3))\n",
    "plt.plot(df.tau, df.v_p)\n",
    "plt.xlabel('t, с')\n",
    "plt.ylabel('v_p, м/с')\n",
    "plt.grid()"
   ]
  },
  {
   "cell_type": "code",
   "execution_count": 138,
   "id": "2cb3d09d",
   "metadata": {},
   "outputs": [
    {
     "data": {
      "image/png": "[encoded data removed]",
      "text/plain": [
       "<Figure size 500x300 with 1 Axes>"
      ]
     },
     "metadata": {},
     "output_type": "display_data"
    }
   ],
   "source": [
    "plt.figure(figsize=(5,3))\n",
    "plt.plot(df.tau, df.x_p)\n",
    "plt.xlabel('t, с')\n",
    "plt.ylabel('x_p, м')\n",
    "plt.grid()"
   ]
  },
  {
   "cell_type": "code",
   "execution_count": null,
   "id": "6d22a414",
   "metadata": {},
   "outputs": [],
   "source": []
  }
 ],
 "metadata": {
  "kernelspec": {
   "display_name": "Python 3 (ipykernel)",
   "language": "python",
   "name": "python3"
  },
  "language_info": {
   "codemirror_mode": {
    "name": "ipython",
    "version": 3
   },
   "file_extension": ".py",
   "mimetype": "text/x-python",
   "name": "python",
   "nbconvert_exporter": "python",
   "pygments_lexer": "ipython3",
   "version": "3.9.13"
  }
 },
 "nbformat": 4,
 "nbformat_minor": 5
}
